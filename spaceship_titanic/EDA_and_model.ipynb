{
 "cells": [
  {
   "cell_type": "code",
   "execution_count": 1,
   "id": "ebede0d1-291e-448b-8e8e-615b4e8620e0",
   "metadata": {},
   "outputs": [],
   "source": [
    "import pandas as pd\n",
    "import matplotlib.pyplot as plt\n",
    "from matplotlib.pyplot import figure"
   ]
  },
  {
   "cell_type": "code",
   "execution_count": 2,
   "id": "64505310-3bb9-48e9-bc4c-c61e43576603",
   "metadata": {},
   "outputs": [],
   "source": [
    "data = pd.read_csv('data/train.csv')"
   ]
  },
  {
   "cell_type": "code",
   "execution_count": 3,
   "id": "86bb8a5f-efa2-4e12-81ea-78b01c5a96d7",
   "metadata": {},
   "outputs": [
    {
     "data": {
      "text/html": [
       "<div>\n",
       "<style scoped>\n",
       "    .dataframe tbody tr th:only-of-type {\n",
       "        vertical-align: middle;\n",
       "    }\n",
       "\n",
       "    .dataframe tbody tr th {\n",
       "        vertical-align: top;\n",
       "    }\n",
       "\n",
       "    .dataframe thead th {\n",
       "        text-align: right;\n",
       "    }\n",
       "</style>\n",
       "<table border=\"1\" class=\"dataframe\">\n",
       "  <thead>\n",
       "    <tr style=\"text-align: right;\">\n",
       "      <th></th>\n",
       "      <th>PassengerId</th>\n",
       "      <th>HomePlanet</th>\n",
       "      <th>CryoSleep</th>\n",
       "      <th>Cabin</th>\n",
       "      <th>Destination</th>\n",
       "      <th>Age</th>\n",
       "      <th>VIP</th>\n",
       "      <th>RoomService</th>\n",
       "      <th>FoodCourt</th>\n",
       "      <th>ShoppingMall</th>\n",
       "      <th>Spa</th>\n",
       "      <th>VRDeck</th>\n",
       "      <th>Name</th>\n",
       "      <th>Transported</th>\n",
       "    </tr>\n",
       "  </thead>\n",
       "  <tbody>\n",
       "    <tr>\n",
       "      <th>0</th>\n",
       "      <td>0001_01</td>\n",
       "      <td>Europa</td>\n",
       "      <td>False</td>\n",
       "      <td>B/0/P</td>\n",
       "      <td>TRAPPIST-1e</td>\n",
       "      <td>39.0</td>\n",
       "      <td>False</td>\n",
       "      <td>0.0</td>\n",
       "      <td>0.0</td>\n",
       "      <td>0.0</td>\n",
       "      <td>0.0</td>\n",
       "      <td>0.0</td>\n",
       "      <td>Maham Ofracculy</td>\n",
       "      <td>False</td>\n",
       "    </tr>\n",
       "    <tr>\n",
       "      <th>1</th>\n",
       "      <td>0002_01</td>\n",
       "      <td>Earth</td>\n",
       "      <td>False</td>\n",
       "      <td>F/0/S</td>\n",
       "      <td>TRAPPIST-1e</td>\n",
       "      <td>24.0</td>\n",
       "      <td>False</td>\n",
       "      <td>109.0</td>\n",
       "      <td>9.0</td>\n",
       "      <td>25.0</td>\n",
       "      <td>549.0</td>\n",
       "      <td>44.0</td>\n",
       "      <td>Juanna Vines</td>\n",
       "      <td>True</td>\n",
       "    </tr>\n",
       "    <tr>\n",
       "      <th>2</th>\n",
       "      <td>0003_01</td>\n",
       "      <td>Europa</td>\n",
       "      <td>False</td>\n",
       "      <td>A/0/S</td>\n",
       "      <td>TRAPPIST-1e</td>\n",
       "      <td>58.0</td>\n",
       "      <td>True</td>\n",
       "      <td>43.0</td>\n",
       "      <td>3576.0</td>\n",
       "      <td>0.0</td>\n",
       "      <td>6715.0</td>\n",
       "      <td>49.0</td>\n",
       "      <td>Altark Susent</td>\n",
       "      <td>False</td>\n",
       "    </tr>\n",
       "    <tr>\n",
       "      <th>3</th>\n",
       "      <td>0003_02</td>\n",
       "      <td>Europa</td>\n",
       "      <td>False</td>\n",
       "      <td>A/0/S</td>\n",
       "      <td>TRAPPIST-1e</td>\n",
       "      <td>33.0</td>\n",
       "      <td>False</td>\n",
       "      <td>0.0</td>\n",
       "      <td>1283.0</td>\n",
       "      <td>371.0</td>\n",
       "      <td>3329.0</td>\n",
       "      <td>193.0</td>\n",
       "      <td>Solam Susent</td>\n",
       "      <td>False</td>\n",
       "    </tr>\n",
       "  </tbody>\n",
       "</table>\n",
       "</div>"
      ],
      "text/plain": [
       "  PassengerId HomePlanet CryoSleep  Cabin  Destination   Age    VIP  \\\n",
       "0     0001_01     Europa     False  B/0/P  TRAPPIST-1e  39.0  False   \n",
       "1     0002_01      Earth     False  F/0/S  TRAPPIST-1e  24.0  False   \n",
       "2     0003_01     Europa     False  A/0/S  TRAPPIST-1e  58.0   True   \n",
       "3     0003_02     Europa     False  A/0/S  TRAPPIST-1e  33.0  False   \n",
       "\n",
       "   RoomService  FoodCourt  ShoppingMall     Spa  VRDeck             Name  \\\n",
       "0          0.0        0.0           0.0     0.0     0.0  Maham Ofracculy   \n",
       "1        109.0        9.0          25.0   549.0    44.0     Juanna Vines   \n",
       "2         43.0     3576.0           0.0  6715.0    49.0    Altark Susent   \n",
       "3          0.0     1283.0         371.0  3329.0   193.0     Solam Susent   \n",
       "\n",
       "   Transported  \n",
       "0        False  \n",
       "1         True  \n",
       "2        False  \n",
       "3        False  "
      ]
     },
     "execution_count": 3,
     "metadata": {},
     "output_type": "execute_result"
    }
   ],
   "source": [
    "data.head(4)"
   ]
  },
  {
   "cell_type": "code",
   "execution_count": 4,
   "id": "cc3fed8e-8848-4003-bde4-d65a624cc8a9",
   "metadata": {},
   "outputs": [],
   "source": [
    "X = data.copy()\n",
    "y = X.pop('Transported')"
   ]
  },
  {
   "cell_type": "code",
   "execution_count": 5,
   "id": "3eb56cc3-5e71-43c0-8313-d6256d3e67a1",
   "metadata": {},
   "outputs": [],
   "source": [
    "X.drop('Name',axis=1, inplace=True)"
   ]
  },
  {
   "cell_type": "code",
   "execution_count": 6,
   "id": "ffda6743-ee3c-469e-bc9c-722f89691454",
   "metadata": {},
   "outputs": [
    {
     "name": "stdout",
     "output_type": "stream",
     "text": [
      "<class 'pandas.core.frame.DataFrame'>\n",
      "RangeIndex: 8693 entries, 0 to 8692\n",
      "Data columns (total 12 columns):\n",
      " #   Column        Non-Null Count  Dtype  \n",
      "---  ------        --------------  -----  \n",
      " 0   PassengerId   8693 non-null   object \n",
      " 1   HomePlanet    8492 non-null   object \n",
      " 2   CryoSleep     8476 non-null   object \n",
      " 3   Cabin         8494 non-null   object \n",
      " 4   Destination   8511 non-null   object \n",
      " 5   Age           8514 non-null   float64\n",
      " 6   VIP           8490 non-null   object \n",
      " 7   RoomService   8512 non-null   float64\n",
      " 8   FoodCourt     8510 non-null   float64\n",
      " 9   ShoppingMall  8485 non-null   float64\n",
      " 10  Spa           8510 non-null   float64\n",
      " 11  VRDeck        8505 non-null   float64\n",
      "dtypes: float64(6), object(6)\n",
      "memory usage: 815.1+ KB\n"
     ]
    }
   ],
   "source": [
    "X.info()"
   ]
  },
  {
   "cell_type": "markdown",
   "id": "d41913cf-9f8c-463c-982a-82f9db511616",
   "metadata": {},
   "source": [
    "Does the \"PassengerId\" column have a correlation with the target?"
   ]
  },
  {
   "cell_type": "code",
   "execution_count": 7,
   "id": "35c5ec79-a7fe-4f8c-ad46-29b5fffc01ed",
   "metadata": {},
   "outputs": [],
   "source": [
    "X.PassengerId  = X.PassengerId.map(lambda x: int(x[:4]) )"
   ]
  },
  {
   "cell_type": "code",
   "execution_count": 8,
   "id": "3fd8b6da-5d4c-491a-9d4b-d7ece59aae10",
   "metadata": {},
   "outputs": [
    {
     "data": {
      "image/png": "[encoded data removed]",
      "text/plain": [
       "<Figure size 1600x400 with 1 Axes>"
      ]
     },
     "metadata": {
      "needs_background": "light"
     },
     "output_type": "display_data"
    }
   ],
   "source": [
    "figure(figsize = (20, 5), dpi = 80)\n",
    "plt.bar(X.PassengerId, height=y*1);"
   ]
  },
  {
   "cell_type": "markdown",
   "id": "52dd76b3-80c8-4f6f-8569-1e0eb5279746",
   "metadata": {},
   "source": [
    "Blue bars are distributed equally; no correlation"
   ]
  },
  {
   "cell_type": "code",
   "execution_count": 9,
   "id": "f6ed530d-37e6-4df3-9368-f16a4c00f8d5",
   "metadata": {},
   "outputs": [],
   "source": [
    "X.drop('PassengerId', axis=1, inplace=True)"
   ]
  },
  {
   "cell_type": "code",
   "execution_count": 10,
   "id": "00c62b60-6d77-4c66-bf10-2cada43b65b0",
   "metadata": {},
   "outputs": [
    {
     "data": {
      "text/plain": [
       "HomePlanet      201\n",
       "CryoSleep       217\n",
       "Cabin           199\n",
       "Destination     182\n",
       "Age             179\n",
       "VIP             203\n",
       "RoomService     181\n",
       "FoodCourt       183\n",
       "ShoppingMall    208\n",
       "Spa             183\n",
       "VRDeck          188\n",
       "dtype: int64"
      ]
     },
     "execution_count": 10,
     "metadata": {},
     "output_type": "execute_result"
    }
   ],
   "source": [
    "X.isnull().sum()"
   ]
  },
  {
   "cell_type": "markdown",
   "id": "787e007a-dc42-4a92-ba1a-dbaad83479dc",
   "metadata": {},
   "source": [
    "As seen above, all columns have missing values. Our first approch, once we reach the pipelines section, will be imputing these"
   ]
  },
  {
   "cell_type": "code",
   "execution_count": 11,
   "id": "1d6a78b9-fcce-43ef-abb8-b8d9a3ec5587",
   "metadata": {},
   "outputs": [
    {
     "data": {
      "text/plain": [
       "TRAPPIST-1e      5915\n",
       "55 Cancri e      1800\n",
       "PSO J318.5-22     796\n",
       "Name: Destination, dtype: int64"
      ]
     },
     "execution_count": 11,
     "metadata": {},
     "output_type": "execute_result"
    }
   ],
   "source": [
    "X.Destination.value_counts()  #CHECK"
   ]
  },
  {
   "cell_type": "code",
   "execution_count": 12,
   "id": "f9086f8f-74a6-4c18-8711-4e5ae9086a89",
   "metadata": {},
   "outputs": [
    {
     "data": {
      "text/plain": [
       "['12', 'P', 'tom ']"
      ]
     },
     "execution_count": 12,
     "metadata": {},
     "output_type": "execute_result"
    }
   ],
   "source": [
    "string = '12/P/tom '\n",
    "string = string.split('/')\n",
    "string"
   ]
  },
  {
   "cell_type": "code",
   "execution_count": 13,
   "id": "1f929a50-564c-4bb2-b946-39c9696145af",
   "metadata": {},
   "outputs": [
    {
     "data": {
      "text/plain": [
       "['B', '0', 'P']"
      ]
     },
     "execution_count": 13,
     "metadata": {},
     "output_type": "execute_result"
    }
   ],
   "source": [
    "X.Cabin[0].split('/')"
   ]
  },
  {
   "cell_type": "markdown",
   "id": "e35e6b94-4127-4f4f-8a8a-f3d52e7dad47",
   "metadata": {},
   "source": [
    "Divide Cabin into 3 different columns: deck, number, and side (P or S)"
   ]
  },
  {
   "cell_type": "code",
   "execution_count": 14,
   "id": "72cd2ee0-930e-4b05-bc3f-8ae6f3630728",
   "metadata": {},
   "outputs": [],
   "source": [
    "def assign(cell):\n",
    "    if type(cell) == float:\n",
    "        return pd.Series([0,0,0])\n",
    "    cell = cell.split('/')\n",
    "    return pd.Series([cell[0], cell[1], cell[2]])\n",
    "\n",
    "X[['deck','room_num','side']] = X.Cabin.apply(assign)"
   ]
  },
  {
   "cell_type": "code",
   "execution_count": 15,
   "id": "d733e833-4078-43d6-8dbf-c8bcc3d4162f",
   "metadata": {},
   "outputs": [],
   "source": [
    "X.drop('Cabin', axis=1, inplace=True)"
   ]
  },
  {
   "cell_type": "code",
   "execution_count": 16,
   "id": "e847ed8b-247e-4e0b-bfa9-f6efd7dc2bf1",
   "metadata": {},
   "outputs": [
    {
     "data": {
      "text/html": [
       "<div>\n",
       "<style scoped>\n",
       "    .dataframe tbody tr th:only-of-type {\n",
       "        vertical-align: middle;\n",
       "    }\n",
       "\n",
       "    .dataframe tbody tr th {\n",
       "        vertical-align: top;\n",
       "    }\n",
       "\n",
       "    .dataframe thead th {\n",
       "        text-align: right;\n",
       "    }\n",
       "</style>\n",
       "<table border=\"1\" class=\"dataframe\">\n",
       "  <thead>\n",
       "    <tr style=\"text-align: right;\">\n",
       "      <th></th>\n",
       "      <th>HomePlanet</th>\n",
       "      <th>CryoSleep</th>\n",
       "      <th>Destination</th>\n",
       "      <th>Age</th>\n",
       "      <th>VIP</th>\n",
       "      <th>RoomService</th>\n",
       "      <th>FoodCourt</th>\n",
       "      <th>ShoppingMall</th>\n",
       "      <th>Spa</th>\n",
       "      <th>VRDeck</th>\n",
       "      <th>deck</th>\n",
       "      <th>room_num</th>\n",
       "      <th>side</th>\n",
       "    </tr>\n",
       "  </thead>\n",
       "  <tbody>\n",
       "    <tr>\n",
       "      <th>0</th>\n",
       "      <td>Europa</td>\n",
       "      <td>False</td>\n",
       "      <td>TRAPPIST-1e</td>\n",
       "      <td>39.0</td>\n",
       "      <td>False</td>\n",
       "      <td>0.0</td>\n",
       "      <td>0.0</td>\n",
       "      <td>0.0</td>\n",
       "      <td>0.0</td>\n",
       "      <td>0.0</td>\n",
       "      <td>B</td>\n",
       "      <td>0</td>\n",
       "      <td>P</td>\n",
       "    </tr>\n",
       "    <tr>\n",
       "      <th>1</th>\n",
       "      <td>Earth</td>\n",
       "      <td>False</td>\n",
       "      <td>TRAPPIST-1e</td>\n",
       "      <td>24.0</td>\n",
       "      <td>False</td>\n",
       "      <td>109.0</td>\n",
       "      <td>9.0</td>\n",
       "      <td>25.0</td>\n",
       "      <td>549.0</td>\n",
       "      <td>44.0</td>\n",
       "      <td>F</td>\n",
       "      <td>0</td>\n",
       "      <td>S</td>\n",
       "    </tr>\n",
       "    <tr>\n",
       "      <th>2</th>\n",
       "      <td>Europa</td>\n",
       "      <td>False</td>\n",
       "      <td>TRAPPIST-1e</td>\n",
       "      <td>58.0</td>\n",
       "      <td>True</td>\n",
       "      <td>43.0</td>\n",
       "      <td>3576.0</td>\n",
       "      <td>0.0</td>\n",
       "      <td>6715.0</td>\n",
       "      <td>49.0</td>\n",
       "      <td>A</td>\n",
       "      <td>0</td>\n",
       "      <td>S</td>\n",
       "    </tr>\n",
       "    <tr>\n",
       "      <th>3</th>\n",
       "      <td>Europa</td>\n",
       "      <td>False</td>\n",
       "      <td>TRAPPIST-1e</td>\n",
       "      <td>33.0</td>\n",
       "      <td>False</td>\n",
       "      <td>0.0</td>\n",
       "      <td>1283.0</td>\n",
       "      <td>371.0</td>\n",
       "      <td>3329.0</td>\n",
       "      <td>193.0</td>\n",
       "      <td>A</td>\n",
       "      <td>0</td>\n",
       "      <td>S</td>\n",
       "    </tr>\n",
       "    <tr>\n",
       "      <th>4</th>\n",
       "      <td>Earth</td>\n",
       "      <td>False</td>\n",
       "      <td>TRAPPIST-1e</td>\n",
       "      <td>16.0</td>\n",
       "      <td>False</td>\n",
       "      <td>303.0</td>\n",
       "      <td>70.0</td>\n",
       "      <td>151.0</td>\n",
       "      <td>565.0</td>\n",
       "      <td>2.0</td>\n",
       "      <td>F</td>\n",
       "      <td>1</td>\n",
       "      <td>S</td>\n",
       "    </tr>\n",
       "  </tbody>\n",
       "</table>\n",
       "</div>"
      ],
      "text/plain": [
       "  HomePlanet CryoSleep  Destination   Age    VIP  RoomService  FoodCourt  \\\n",
       "0     Europa     False  TRAPPIST-1e  39.0  False          0.0        0.0   \n",
       "1      Earth     False  TRAPPIST-1e  24.0  False        109.0        9.0   \n",
       "2     Europa     False  TRAPPIST-1e  58.0   True         43.0     3576.0   \n",
       "3     Europa     False  TRAPPIST-1e  33.0  False          0.0     1283.0   \n",
       "4      Earth     False  TRAPPIST-1e  16.0  False        303.0       70.0   \n",
       "\n",
       "   ShoppingMall     Spa  VRDeck deck room_num side  \n",
       "0           0.0     0.0     0.0    B        0    P  \n",
       "1          25.0   549.0    44.0    F        0    S  \n",
       "2           0.0  6715.0    49.0    A        0    S  \n",
       "3         371.0  3329.0   193.0    A        0    S  \n",
       "4         151.0   565.0     2.0    F        1    S  "
      ]
     },
     "execution_count": 16,
     "metadata": {},
     "output_type": "execute_result"
    }
   ],
   "source": [
    "X.head()"
   ]
  },
  {
   "cell_type": "code",
   "execution_count": 17,
   "id": "f3b8d0ca-63d6-483d-9bf2-353ade50b971",
   "metadata": {},
   "outputs": [],
   "source": [
    "def bar_plot(column, plot=True):\n",
    "    values = list(X[column].unique().astype(str))\n",
    "    values_mean = {}\n",
    "    for value in values:\n",
    "        values_mean[value] = data.loc[X[column] == value].Transported.sum()\n",
    "    values_mean = dict(sorted(values_mean.items(), key = lambda item: item[1]))\n",
    "    \n",
    "    figure(figsize = (20, 6), dpi = 80)\n",
    "    if plot == True:\n",
    "        plt.bar(values_mean.keys(), values_mean.values());\n",
    "    return values_mean"
   ]
  },
  {
   "cell_type": "code",
   "execution_count": 18,
   "id": "eccdd74a-0574-4f7c-929d-9a3fcd91047c",
   "metadata": {},
   "outputs": [
    {
     "data": {
      "image/png": "[encoded data removed]",
      "text/plain": [
       "<Figure size 1600x480 with 1 Axes>"
      ]
     },
     "metadata": {
      "needs_background": "light"
     },
     "output_type": "display_data"
    }
   ],
   "source": [
    "deck_mean = bar_plot('deck')"
   ]
  },
  {
   "cell_type": "markdown",
   "id": "b2c0f4b8-0734-4b42-8713-c8c40313893b",
   "metadata": {},
   "source": [
    "TO replace with ordinal numbers"
   ]
  },
  {
   "cell_type": "code",
   "execution_count": 19,
   "id": "f10e9449-c208-42e8-bb83-1d10c7d0cf04",
   "metadata": {},
   "outputs": [],
   "source": [
    "g1 = [0,1,2,3]\n",
    "g1[0] = list(deck_mean.keys())[:2]\n",
    "g1[1] = list(deck_mean.keys())[2:5]\n",
    "g1[2] = list(deck_mean.keys())[5:7]\n",
    "g1[3] = list(deck_mean.keys())[7:]\n",
    "\n",
    "for x in range(len(g1)):\n",
    "    X.deck.replace(g1[x], x, inplace=True)"
   ]
  },
  {
   "cell_type": "code",
   "execution_count": 20,
   "id": "bd36939a-13fa-4496-9887-13bc732fae2d",
   "metadata": {},
   "outputs": [
    {
     "data": {
      "text/plain": [
       "0    2\n",
       "1    3\n",
       "2    1\n",
       "3    1\n",
       "4    3\n",
       "5    3\n",
       "6    3\n",
       "7    3\n",
       "Name: deck, dtype: int64"
      ]
     },
     "execution_count": 20,
     "metadata": {},
     "output_type": "execute_result"
    }
   ],
   "source": [
    "X.deck[:8]"
   ]
  },
  {
   "cell_type": "code",
   "execution_count": 21,
   "id": "3c042700-a233-40a6-bfef-9a66a8358601",
   "metadata": {},
   "outputs": [
    {
     "data": {
      "text/plain": [
       "{'0': 0,\n",
       " 'T': 1,\n",
       " 'A': 127,\n",
       " 'D': 207,\n",
       " 'E': 313,\n",
       " 'C': 508,\n",
       " 'B': 572,\n",
       " 'F': 1229,\n",
       " 'G': 1321}"
      ]
     },
     "execution_count": 21,
     "metadata": {},
     "output_type": "execute_result"
    }
   ],
   "source": [
    "deck_mean"
   ]
  },
  {
   "cell_type": "code",
   "execution_count": 22,
   "id": "2662d687-a35c-4fb3-a828-cd9bf1fd61b6",
   "metadata": {},
   "outputs": [
    {
     "data": {
      "text/html": [
       "<div>\n",
       "<style scoped>\n",
       "    .dataframe tbody tr th:only-of-type {\n",
       "        vertical-align: middle;\n",
       "    }\n",
       "\n",
       "    .dataframe tbody tr th {\n",
       "        vertical-align: top;\n",
       "    }\n",
       "\n",
       "    .dataframe thead th {\n",
       "        text-align: right;\n",
       "    }\n",
       "</style>\n",
       "<table border=\"1\" class=\"dataframe\">\n",
       "  <thead>\n",
       "    <tr style=\"text-align: right;\">\n",
       "      <th></th>\n",
       "      <th>HomePlanet</th>\n",
       "      <th>CryoSleep</th>\n",
       "      <th>Destination</th>\n",
       "      <th>Age</th>\n",
       "      <th>VIP</th>\n",
       "      <th>RoomService</th>\n",
       "      <th>FoodCourt</th>\n",
       "      <th>ShoppingMall</th>\n",
       "      <th>Spa</th>\n",
       "      <th>VRDeck</th>\n",
       "      <th>deck</th>\n",
       "      <th>room_num</th>\n",
       "      <th>side</th>\n",
       "    </tr>\n",
       "  </thead>\n",
       "  <tbody>\n",
       "    <tr>\n",
       "      <th>0</th>\n",
       "      <td>Europa</td>\n",
       "      <td>False</td>\n",
       "      <td>TRAPPIST-1e</td>\n",
       "      <td>39.0</td>\n",
       "      <td>False</td>\n",
       "      <td>0.0</td>\n",
       "      <td>0.0</td>\n",
       "      <td>0.0</td>\n",
       "      <td>0.0</td>\n",
       "      <td>0.0</td>\n",
       "      <td>2</td>\n",
       "      <td>0</td>\n",
       "      <td>P</td>\n",
       "    </tr>\n",
       "    <tr>\n",
       "      <th>1</th>\n",
       "      <td>Earth</td>\n",
       "      <td>False</td>\n",
       "      <td>TRAPPIST-1e</td>\n",
       "      <td>24.0</td>\n",
       "      <td>False</td>\n",
       "      <td>109.0</td>\n",
       "      <td>9.0</td>\n",
       "      <td>25.0</td>\n",
       "      <td>549.0</td>\n",
       "      <td>44.0</td>\n",
       "      <td>3</td>\n",
       "      <td>0</td>\n",
       "      <td>S</td>\n",
       "    </tr>\n",
       "    <tr>\n",
       "      <th>2</th>\n",
       "      <td>Europa</td>\n",
       "      <td>False</td>\n",
       "      <td>TRAPPIST-1e</td>\n",
       "      <td>58.0</td>\n",
       "      <td>True</td>\n",
       "      <td>43.0</td>\n",
       "      <td>3576.0</td>\n",
       "      <td>0.0</td>\n",
       "      <td>6715.0</td>\n",
       "      <td>49.0</td>\n",
       "      <td>1</td>\n",
       "      <td>0</td>\n",
       "      <td>S</td>\n",
       "    </tr>\n",
       "    <tr>\n",
       "      <th>3</th>\n",
       "      <td>Europa</td>\n",
       "      <td>False</td>\n",
       "      <td>TRAPPIST-1e</td>\n",
       "      <td>33.0</td>\n",
       "      <td>False</td>\n",
       "      <td>0.0</td>\n",
       "      <td>1283.0</td>\n",
       "      <td>371.0</td>\n",
       "      <td>3329.0</td>\n",
       "      <td>193.0</td>\n",
       "      <td>1</td>\n",
       "      <td>0</td>\n",
       "      <td>S</td>\n",
       "    </tr>\n",
       "    <tr>\n",
       "      <th>4</th>\n",
       "      <td>Earth</td>\n",
       "      <td>False</td>\n",
       "      <td>TRAPPIST-1e</td>\n",
       "      <td>16.0</td>\n",
       "      <td>False</td>\n",
       "      <td>303.0</td>\n",
       "      <td>70.0</td>\n",
       "      <td>151.0</td>\n",
       "      <td>565.0</td>\n",
       "      <td>2.0</td>\n",
       "      <td>3</td>\n",
       "      <td>1</td>\n",
       "      <td>S</td>\n",
       "    </tr>\n",
       "  </tbody>\n",
       "</table>\n",
       "</div>"
      ],
      "text/plain": [
       "  HomePlanet CryoSleep  Destination   Age    VIP  RoomService  FoodCourt  \\\n",
       "0     Europa     False  TRAPPIST-1e  39.0  False          0.0        0.0   \n",
       "1      Earth     False  TRAPPIST-1e  24.0  False        109.0        9.0   \n",
       "2     Europa     False  TRAPPIST-1e  58.0   True         43.0     3576.0   \n",
       "3     Europa     False  TRAPPIST-1e  33.0  False          0.0     1283.0   \n",
       "4      Earth     False  TRAPPIST-1e  16.0  False        303.0       70.0   \n",
       "\n",
       "   ShoppingMall     Spa  VRDeck  deck room_num side  \n",
       "0           0.0     0.0     0.0     2        0    P  \n",
       "1          25.0   549.0    44.0     3        0    S  \n",
       "2           0.0  6715.0    49.0     1        0    S  \n",
       "3         371.0  3329.0   193.0     1        0    S  \n",
       "4         151.0   565.0     2.0     3        1    S  "
      ]
     },
     "execution_count": 22,
     "metadata": {},
     "output_type": "execute_result"
    }
   ],
   "source": [
    "X.head()"
   ]
  },
  {
   "cell_type": "markdown",
   "id": "ab0a4146-51b6-45e0-8f8c-5466b5d48fe3",
   "metadata": {},
   "source": [
    "Remaining: One Hot Encode 'HomePlanet', 'Destination' and 'side', as well as standarizing and setting 'VIP' and 'CryoSleep' to 1s and 0s"
   ]
  },
  {
   "cell_type": "code",
   "execution_count": 23,
   "id": "9d3e60cc-20ee-4639-8ac1-f3c38ed47c5b",
   "metadata": {},
   "outputs": [
    {
     "data": {
      "text/plain": [
       "S    4288\n",
       "P    4206\n",
       "0     199\n",
       "Name: side, dtype: int64"
      ]
     },
     "execution_count": 23,
     "metadata": {},
     "output_type": "execute_result"
    }
   ],
   "source": [
    "X.side.value_counts()"
   ]
  },
  {
   "cell_type": "code",
   "execution_count": 24,
   "id": "433e4209-a1e9-4554-8548-fadf14fedd6f",
   "metadata": {},
   "outputs": [],
   "source": [
    "from sklearn.preprocessing import OrdinalEncoder\n",
    "X['VIP'] = X['VIP'] *1"
   ]
  },
  {
   "cell_type": "markdown",
   "id": "bd298188-2816-4341-8555-47a2cd25f020",
   "metadata": {},
   "source": [
    "Creating function to turn bool to int"
   ]
  },
  {
   "cell_type": "code",
   "execution_count": 25,
   "id": "3ce04c97-b311-4810-bec3-79636f3d2516",
   "metadata": {},
   "outputs": [],
   "source": [
    "def bool_to_int(X, cols):\n",
    "    for col in cols:\n",
    "        X[col] = X[col] *1\n",
    "    return X\n",
    "\n",
    "X = bool_to_int(X, ['VIP', 'CryoSleep'])"
   ]
  },
  {
   "cell_type": "code",
   "execution_count": 26,
   "id": "8396642d-5568-4602-9e24-f60467ece563",
   "metadata": {},
   "outputs": [],
   "source": [
    "cat_cols = [cname for cname in X.columns if\n",
    "                    X[cname].nunique() < 10 and \n",
    "                    X[cname].dtype == \"object\"]\n",
    "\n",
    "num_cols = [cname for cname in X.columns if \n",
    "                X[cname].dtype in ['int64', 'float64']]"
   ]
  },
  {
   "cell_type": "markdown",
   "id": "bdfd7f17-0a92-4bad-8e45-9fd8cce5eece",
   "metadata": {},
   "source": [
    "Summarizing the data engineering process so far:"
   ]
  },
  {
   "cell_type": "code",
   "execution_count": 27,
   "id": "82879bea-fb15-42f6-80ed-6a9d51d9d931",
   "metadata": {},
   "outputs": [],
   "source": [
    "def assign(cell):\n",
    "    if type(cell) == float:\n",
    "        return pd.Series([0,0,0])\n",
    "    cell = cell.split('/')\n",
    "    return pd.Series([cell[0], cell[1], cell[2]])\n",
    "\n",
    "\n",
    "def bool_to_int(X, cols):\n",
    "    for col in cols:\n",
    "        X[col] = X[col] *1\n",
    "    return X\n",
    "\n",
    "\n",
    "def pandas_transform(x):\n",
    "    if 'PassengerId' in list(x.columns):\n",
    "        x.drop('PassengerId', axis=1, inplace=True)\n",
    "    \n",
    "    if 'Cabin' in list(x.columns):\n",
    "        x[['deck','room_num','side']] = x.Cabin.apply(assign)\n",
    "        x.drop('Cabin', axis=1, inplace=True)\n",
    "    \n",
    "    x[['deck', 'side']] = x[['deck', 'side']].astype(str)\n",
    "    x['room_num'] = x['room_num'].astype(int)\n",
    "    \n",
    "    deck_mean = {'0': 0,\n",
    "     'T': 1,\n",
    "     'A': 127,\n",
    "     'D': 207,\n",
    "     'E': 313,\n",
    "     'C': 508,\n",
    "     'B': 572,\n",
    "     'F': 1229,\n",
    "     'G': 1321}\n",
    "    \n",
    "    g1 = [0,1,2,3]\n",
    "    g1[0] = list(deck_mean.keys())[:2]\n",
    "    g1[1] = list(deck_mean.keys())[2:5]\n",
    "    g1[2] = list(deck_mean.keys())[5:7]\n",
    "    g1[3] = list(deck_mean.keys())[7:]\n",
    "\n",
    "    for y in range(len(g1)):\n",
    "        x.deck.replace(g1[y], y, inplace=True)\n",
    "        \n",
    "    x = bool_to_int(x, ['VIP', 'CryoSleep'])\n",
    "    \n",
    "    return x"
   ]
  },
  {
   "cell_type": "code",
   "execution_count": 28,
   "id": "84a58e16-555f-4147-940e-5e4c13d4d9b4",
   "metadata": {},
   "outputs": [
    {
     "data": {
      "text/plain": [
       "['HomePlanet', 'CryoSleep', 'Destination', 'VIP', 'side']"
      ]
     },
     "execution_count": 28,
     "metadata": {},
     "output_type": "execute_result"
    }
   ],
   "source": [
    "cat_cols"
   ]
  },
  {
   "cell_type": "code",
   "execution_count": 29,
   "id": "33c812f2-b2a4-4a59-b937-ecf5562f538c",
   "metadata": {},
   "outputs": [],
   "source": [
    "from sklearn.compose import ColumnTransformer\n",
    "from sklearn.pipeline import Pipeline\n",
    "from sklearn.preprocessing import OneHotEncoder, OrdinalEncoder, StandardScaler\n",
    "from sklearn.impute import SimpleImputer\n",
    "\n",
    "\n",
    "cat_transform_ohe = Pipeline([\n",
    "    ('imputer', SimpleImputer(strategy='most_frequent')),\n",
    "    ('ohe', OneHotEncoder(handle_unknown='ignore'))\n",
    "])\n",
    "\n",
    "cat_transform_ord = Pipeline([\n",
    "    ('imputer', SimpleImputer(strategy='most_frequent'))\n",
    "])\n",
    "\n",
    "imputers = ColumnTransformer([\n",
    "    ('cat_imputer_ohe', cat_transform_ohe, ['HomePlanet','Destination','side']),\n",
    "    ('cat_imputer_ord', cat_transform_ord, ['CryoSleep', 'VIP']),\n",
    "    ('num_imputer', SimpleImputer(strategy='mean'), num_cols)\n",
    "    ])"
   ]
  },
  {
   "cell_type": "code",
   "execution_count": 30,
   "id": "12d1488d-192e-455d-b83d-856cbcc3bb53",
   "metadata": {},
   "outputs": [],
   "source": [
    "def make_pipeline(model):\n",
    "    return Pipeline([\n",
    "        ('imputers', imputers),\n",
    "        ('num_transforms', StandardScaler()),\n",
    "        ('model', model)\n",
    "        ])"
   ]
  },
  {
   "cell_type": "markdown",
   "id": "41e8546a-7dda-45e3-8467-fdfa5f59dbd8",
   "metadata": {},
   "source": [
    "Going from zero with original X data"
   ]
  },
  {
   "cell_type": "code",
   "execution_count": 31,
   "id": "c51c3313-dd31-43de-91ec-3e3adcb05869",
   "metadata": {},
   "outputs": [],
   "source": [
    "X = data.copy().drop('Transported', axis=1)\n",
    "X = pandas_transform(X)"
   ]
  },
  {
   "cell_type": "code",
   "execution_count": 32,
   "id": "7ecdf9cd-7e5b-406d-8deb-c8fdcd8c41fc",
   "metadata": {},
   "outputs": [],
   "source": [
    "from sklearn.model_selection import train_test_split\n",
    "\n",
    "X_train, X_val, y_train, y_val = train_test_split(X, y, test_size=0.3, random_state=42)"
   ]
  },
  {
   "cell_type": "code",
   "execution_count": 56,
   "id": "54be4b1e-fe02-4a2f-80fb-51889ff8c65b",
   "metadata": {},
   "outputs": [],
   "source": [
    "from sklearn.ensemble import RandomForestClassifier\n",
    "from sklearn.model_selection import GridSearchCV\n",
    "\n",
    "params = {'model__n_estimators':[50* x for x in range(1,8)]}\n",
    "\n",
    "pipeline = make_pipeline(RandomForestClassifier())\n",
    "\n",
    "search = GridSearchCV(pipeline, params)"
   ]
  },
  {
   "cell_type": "code",
   "execution_count": 68,
   "id": "764bdda6-d014-4ced-86bf-7570f32b9040",
   "metadata": {},
   "outputs": [],
   "source": [
    "search.fit(X,y);"
   ]
  },
  {
   "cell_type": "code",
   "execution_count": 69,
   "id": "e96fc72b-9efb-4bad-b97a-f43e1fd05c37",
   "metadata": {},
   "outputs": [
    {
     "data": {
      "image/png": "[encoded data removed]",
      "text/plain": [
       "<Figure size 432x288 with 1 Axes>"
      ]
     },
     "metadata": {
      "needs_background": "light"
     },
     "output_type": "display_data"
    }
   ],
   "source": [
    "plt.plot(search.param_grid['model__n_estimators'],search.cv_results_['mean_test_score'] );"
   ]
  },
  {
   "cell_type": "code",
   "execution_count": 70,
   "id": "8ecf577f-5207-4418-bc3c-a7b856b706f6",
   "metadata": {},
   "outputs": [
    {
     "data": {
      "text/plain": [
       "0.7862664613539917"
      ]
     },
     "execution_count": 70,
     "metadata": {},
     "output_type": "execute_result"
    }
   ],
   "source": [
    "search.best_score_"
   ]
  },
  {
   "cell_type": "code",
   "execution_count": 60,
   "id": "02d6ae9b-d6bd-4138-a62f-1363a98b5f13",
   "metadata": {},
   "outputs": [],
   "source": [
    "from sklearn.model_selection import GridSearchCV\n",
    "from sklearn.neighbors import KNeighborsClassifier\n",
    "\n",
    "params={'model__n_neighbors':[3,5,8,11,15,30]}\n",
    "pipe2 = make_pipeline(KNeighborsClassifier())\n",
    "search2 = GridSearchCV(pipe2, params, cv = 3)\n",
    "search2.fit(X,y);"
   ]
  },
  {
   "cell_type": "code",
   "execution_count": 63,
   "id": "86672c00-0294-4cf7-b0f5-3c91670f10b1",
   "metadata": {},
   "outputs": [
    {
     "data": {
      "text/plain": [
       "0.7768333042304617"
      ]
     },
     "execution_count": 63,
     "metadata": {},
     "output_type": "execute_result"
    }
   ],
   "source": [
    "search2.best_score_"
   ]
  },
  {
   "cell_type": "code",
   "execution_count": 64,
   "id": "024eef7a-7452-4ca4-b7f1-0d667f3b5cde",
   "metadata": {},
   "outputs": [
    {
     "data": {
      "text/plain": [
       "{'model__n_neighbors': 15}"
      ]
     },
     "execution_count": 64,
     "metadata": {},
     "output_type": "execute_result"
    }
   ],
   "source": [
    "search2.best_params_"
   ]
  },
  {
   "cell_type": "code",
   "execution_count": 66,
   "id": "1a2e08c4-1602-413b-9ca0-9c0853051840",
   "metadata": {},
   "outputs": [],
   "source": [
    "from xgboost import XGBClassifier\n",
    "\n",
    "params={'model__n_estimators':[10,50,100,200], 'model__max_depth':[10,50,100,200]}\n",
    "pipe3 = make_pipeline(XGBClassifier())\n",
    "search3 = GridSearchCV(pipe3, params, cv = 3)\n",
    "search3.fit(X,y);"
   ]
  },
  {
   "cell_type": "code",
   "execution_count": 67,
   "id": "02192b49-f9c5-4872-a19c-d5ae3297740b",
   "metadata": {
    "tags": []
   },
   "outputs": [
    {
     "data": {
      "text/plain": [
       "0.7915582058623585"
      ]
     },
     "execution_count": 67,
     "metadata": {},
     "output_type": "execute_result"
    }
   ],
   "source": [
    "search3.best_score_"
   ]
  },
  {
   "cell_type": "code",
   "execution_count": 109,
   "id": "81bddaa2-a264-404b-9310-8793a45e7ac0",
   "metadata": {},
   "outputs": [
    {
     "data": {
      "text/plain": [
       "{'model__n_estimators': [10, 50, 100, 200],\n",
       " 'model__max_depth': [10, 50, 100, 200]}"
      ]
     },
     "execution_count": 109,
     "metadata": {},
     "output_type": "execute_result"
    }
   ],
   "source": [
    "search3.param_grid"
   ]
  },
  {
   "cell_type": "code",
   "execution_count": 103,
   "id": "789fe11b-724e-43cb-bb15-012bcd2f8e25",
   "metadata": {},
   "outputs": [
    {
     "data": {
      "image/png": "[encoded data removed]",
      "text/plain": [
       "<Figure size 432x288 with 1 Axes>"
      ]
     },
     "metadata": {
      "needs_background": "light"
     },
     "output_type": "display_data"
    }
   ],
   "source": [
    "i = 0\n",
    "for x in search3.param_grid['model__n_estimators']:\n",
    "    plt.plot(search3.param_grid['model__max_depth'],search3.cv_results_['mean_test_score'][0+4*i:4+4*i], label = x);\n",
    "    i+=1\n",
    "plt.xlabel('max depth')\n",
    "plt.ylabel('SCORE')\n",
    "plt.legend(search3.param_grid['model__n_estimators']);"
   ]
  },
  {
   "cell_type": "code",
   "execution_count": 104,
   "id": "1f13829a-5144-4829-a641-03c681484d78",
   "metadata": {},
   "outputs": [],
   "source": [
    "pipe3f = make_pipeline(XGBClassifier(n_estimators=10, max_depth=10))\n",
    "pipe3f.fit(X,y);"
   ]
  },
  {
   "cell_type": "code",
   "execution_count": 106,
   "id": "36b2d881-2370-426a-9077-abec07ff0ebe",
   "metadata": {},
   "outputs": [],
   "source": [
    "X_test = pd.read_csv('data/test.csv')\n",
    "X_test = pandas_transform(X_test)\n",
    "\n",
    "preds = pipe3f.predict(X_test)\n",
    "output = pd.DataFrame({'PassengerId': pd.read_csv('data/test.csv').PassengerId,\n",
    "                       'Transported': preds>0.5})\n",
    "output.to_csv('./submission.csv', index=False)"
   ]
  },
  {
   "cell_type": "markdown",
   "id": "f7644790-591a-4da4-84d1-aa318a69fca7",
   "metadata": {},
   "source": [
    "Results: 0.79 accuracy on kaggle's competition test set, while top 1 participant got 0.82 accuracy"
   ]
  },
  {
   "cell_type": "markdown",
   "id": "55f8d5fa-efb9-4dd2-96c0-12bde25e7344",
   "metadata": {},
   "source": [
    "Second approach: dropping na"
   ]
  },
  {
   "cell_type": "code",
   "execution_count": 107,
   "id": "3f6bf8fd-adc4-4642-b781-fed2b69e0b55",
   "metadata": {},
   "outputs": [],
   "source": [
    "X2 = data.copy()\n",
    "X2.dropna(inplace=True)\n",
    "y2 = X2.pop('Transported')"
   ]
  },
  {
   "cell_type": "code",
   "execution_count": 108,
   "id": "3eb87728-8d7d-4d82-b7e2-33c89daad486",
   "metadata": {},
   "outputs": [],
   "source": [
    "X2 = pandas_transform(X2)"
   ]
  },
  {
   "cell_type": "code",
   "execution_count": 110,
   "id": "9f8f5f76-6237-4a0a-8a96-f65c75c1a540",
   "metadata": {},
   "outputs": [],
   "source": [
    "params={'model__n_estimators':[10,50,100,200], 'model__max_depth':[10,50,100,200]}\n",
    "pipe4 = make_pipeline(XGBClassifier())\n",
    "search4 = GridSearchCV(pipe4, params, cv = 3)\n",
    "search4.fit(X2,y2);"
   ]
  },
  {
   "cell_type": "code",
   "execution_count": 111,
   "id": "0768e100-8c85-480d-bdfa-5408afc5a303",
   "metadata": {},
   "outputs": [
    {
     "data": {
      "text/plain": [
       "0.793369663941871"
      ]
     },
     "execution_count": 111,
     "metadata": {},
     "output_type": "execute_result"
    }
   ],
   "source": [
    "search4.best_score_"
   ]
  },
  {
   "cell_type": "code",
   "execution_count": 112,
   "id": "a632c525-bddb-4c38-87c5-635a987ddba5",
   "metadata": {},
   "outputs": [
    {
     "data": {
      "text/plain": [
       "{'model__max_depth': 10, 'model__n_estimators': 10}"
      ]
     },
     "execution_count": 112,
     "metadata": {},
     "output_type": "execute_result"
    }
   ],
   "source": [
    "search4.best_params_"
   ]
  },
  {
   "cell_type": "code",
   "execution_count": 113,
   "id": "e72a3b9b-d44f-4a48-ad98-52c2fea64a40",
   "metadata": {},
   "outputs": [],
   "source": [
    "pipe4f = make_pipeline(XGBClassifier(n_estimators=10, max_depth=10))\n",
    "pipe4f.fit(X2,y2);\n",
    "\n",
    "X_test = pd.read_csv('data/test.csv')\n",
    "X_test = pandas_transform(X_test)\n",
    "\n",
    "preds = pipe4f.predict(X_test)\n",
    "output = pd.DataFrame({'PassengerId': pd.read_csv('data/test.csv').PassengerId,\n",
    "                       'Transported': preds>0.5})\n",
    "output.to_csv('./submission2.csv', index=False)"
   ]
  },
  {
   "cell_type": "markdown",
   "id": "aa9ae13b-d03a-493f-a642-b38f89362984",
   "metadata": {},
   "source": [
    "Results: while having a slightier better result in validation sets, performed worse in test data in kaggle, with an accuracy of 0.78 (not a great difference though)"
   ]
  }
 ],
 "metadata": {
  "kernelspec": {
   "display_name": "Python 3 (ipykernel)",
   "language": "python",
   "name": "python3"
  },
  "language_info": {
   "codemirror_mode": {
    "name": "ipython",
    "version": 3
   },
   "file_extension": ".py",
   "mimetype": "text/x-python",
   "name": "python",
   "nbconvert_exporter": "python",
   "pygments_lexer": "ipython3",
   "version": "3.10.0"
  }
 },
 "nbformat": 4,
 "nbformat_minor": 5
}

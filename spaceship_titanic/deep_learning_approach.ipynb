{
 "cells": [
  {
   "cell_type": "code",
   "execution_count": 2,
   "id": "7ee182fd-0634-4854-8bf5-78c5ae2cba52",
   "metadata": {},
   "outputs": [],
   "source": [
    "import pandas as pd\n",
    "\n",
    "data = pd.read_csv('data/train.csv')\n",
    "X = data.copy()\n",
    "y = X.pop('Transported')"
   ]
  },
  {
   "cell_type": "code",
   "execution_count": 4,
   "id": "39ddc201-d0c0-46f9-919b-9642fa1d1aac",
   "metadata": {},
   "outputs": [],
   "source": [
    "from sklearn.compose import ColumnTransformer\n",
    "from sklearn.pipeline import Pipeline\n",
    "from sklearn.preprocessing import OneHotEncoder, OrdinalEncoder, StandardScaler\n",
    "from sklearn.impute import SimpleImputer\n",
    "\n",
    "cat_cols = [cname for cname in X.columns if\n",
    "                    X[cname].nunique() < 10 and \n",
    "                    X[cname].dtype == \"object\"]\n",
    "\n",
    "num_cols = [cname for cname in X.columns if \n",
    "                X[cname].dtype in ['int64', 'float64']]\n",
    "\n",
    "def assign(cell):\n",
    "    if type(cell) == float:\n",
    "        return pd.Series([0,0,0])\n",
    "    cell = cell.split('/')\n",
    "    return pd.Series([cell[0], cell[1], cell[2]])\n",
    "\n",
    "def bool_to_int(X, cols):\n",
    "    for col in cols:\n",
    "        X[col] = X[col] *1\n",
    "    return X\n",
    "\n",
    "\n",
    "def pandas_transform(x):\n",
    "    if 'PassengerId' in list(x.columns):\n",
    "        x.drop('PassengerId', axis=1, inplace=True)\n",
    "    \n",
    "    if 'Cabin' in list(x.columns):\n",
    "        x[['deck','room_num','side']] = x.Cabin.apply(assign)\n",
    "        x.drop('Cabin', axis=1, inplace=True)\n",
    "    \n",
    "    x[['deck', 'side']] = x[['deck', 'side']].astype(str)\n",
    "    x['room_num'] = x['room_num'].astype(int)\n",
    "    \n",
    "    deck_mean = {'0': 0,\n",
    "     'T': 1,\n",
    "     'A': 127,\n",
    "     'D': 207,\n",
    "     'E': 313,\n",
    "     'C': 508,\n",
    "     'B': 572,\n",
    "     'F': 1229,\n",
    "     'G': 1321}\n",
    "    \n",
    "    g1 = [0,1,2,3]\n",
    "    g1[0] = list(deck_mean.keys())[:2]\n",
    "    g1[1] = list(deck_mean.keys())[2:5]\n",
    "    g1[2] = list(deck_mean.keys())[5:7]\n",
    "    g1[3] = list(deck_mean.keys())[7:]\n",
    "\n",
    "    for y in range(len(g1)):\n",
    "        x.deck.replace(g1[y], y, inplace=True)\n",
    "        \n",
    "    x = bool_to_int(x, ['VIP', 'CryoSleep'])\n",
    "    \n",
    "    return x\n",
    "\n",
    "cat_transform_ohe = Pipeline([\n",
    "    ('imputer', SimpleImputer(strategy='most_frequent')),\n",
    "    ('ohe', OneHotEncoder(handle_unknown='ignore'))\n",
    "])\n",
    "\n",
    "cat_transform_ord = Pipeline([\n",
    "    ('imputer', SimpleImputer(strategy='most_frequent')),\n",
    "    ('ord', OrdinalEncoder(handle_unknown='use_encoded_value', unknown_value=-1))\n",
    "])\n",
    "\n",
    "imputers = ColumnTransformer([\n",
    "    ('cat_imputer_ohe', cat_transform_ohe, ['deck','HomePlanet','Destination']),\n",
    "    ('cat_imputer_ord', cat_transform_ord, ['CryoSleep', 'VIP', 'side']),\n",
    "    ('num_imputer', SimpleImputer(strategy='mean'), num_cols)\n",
    "    ])\n",
    "\n",
    "def make_pipeline(model):\n",
    "    return Pipeline([\n",
    "        ('imputers', imputers),\n",
    "        ('num_transforms', StandardScaler())\n",
    "        # ,('model', model)\n",
    "        ])"
   ]
  },
  {
   "cell_type": "markdown",
   "id": "583a6f59-8fdb-47d7-9f5a-60d515f31af4",
   "metadata": {},
   "source": [
    "Deep learning approach"
   ]
  },
  {
   "cell_type": "code",
   "execution_count": 1,
   "id": "e045a998-a3f3-4242-97c5-2d870393cd9b",
   "metadata": {},
   "outputs": [],
   "source": [
    "import tensorflow as tf\n",
    "from tensorflow import keras"
   ]
  },
  {
   "cell_type": "code",
   "execution_count": 5,
   "id": "4310f3da-ede6-4aaf-ad14-42bfb49a7deb",
   "metadata": {},
   "outputs": [],
   "source": [
    "X = pandas_transform(X)\n",
    "pipe = make_pipeline(0)"
   ]
  },
  {
   "cell_type": "code",
   "execution_count": 22,
   "id": "4a842003-4929-4d0d-bf3f-409a2fb823c0",
   "metadata": {},
   "outputs": [],
   "source": [
    "X_transformed = pipe.fit_transform(X)"
   ]
  },
  {
   "cell_type": "code",
   "execution_count": 23,
   "id": "64a8b3ef-2b7b-4ba7-8ce0-898ba2b293ab",
   "metadata": {},
   "outputs": [
    {
     "data": {
      "text/plain": [
       "(8693, 19)"
      ]
     },
     "execution_count": 23,
     "metadata": {},
     "output_type": "execute_result"
    }
   ],
   "source": [
    "X_transformed.shape"
   ]
  },
  {
   "cell_type": "code",
   "execution_count": 28,
   "id": "12e7f4f5-ff1c-4692-9a69-da62937d225a",
   "metadata": {},
   "outputs": [],
   "source": [
    "from keras import layers\n",
    "\n",
    "model = keras.Sequential([\n",
    "    layers.Dense(50, input_shape=[19], activation='relu'),\n",
    "    layers.Dropout(0.3),\n",
    "    layers.Dense(20, activation='relu'),\n",
    "    layers.Dropout(0.1),\n",
    "    layers.Dense(10, activation='relu'),\n",
    "    layers.Dense(1, activation='sigmoid')\n",
    "])"
   ]
  },
  {
   "cell_type": "code",
   "execution_count": 29,
   "id": "67979ee5-c9c1-4da2-a9a1-2b96400f07cf",
   "metadata": {},
   "outputs": [
    {
     "name": "stdout",
     "output_type": "stream",
     "text": [
      "Epoch 1/30\n",
      "231/231 [==============================] - 1s 1ms/step - loss: 0.5658 - accuracy: 0.6982 - val_loss: 0.4433 - val_accuracy: 0.7929\n",
      "Epoch 2/30\n",
      "231/231 [==============================] - 0s 961us/step - loss: 0.4668 - accuracy: 0.7714 - val_loss: 0.4310 - val_accuracy: 0.7906\n",
      "Epoch 3/30\n",
      "231/231 [==============================] - 0s 956us/step - loss: 0.4489 - accuracy: 0.7847 - val_loss: 0.4156 - val_accuracy: 0.7906\n",
      "Epoch 4/30\n",
      "231/231 [==============================] - 0s 948us/step - loss: 0.4392 - accuracy: 0.7850 - val_loss: 0.4086 - val_accuracy: 0.7960\n",
      "Epoch 5/30\n",
      "231/231 [==============================] - 0s 957us/step - loss: 0.4382 - accuracy: 0.7919 - val_loss: 0.4120 - val_accuracy: 0.7860\n",
      "Epoch 6/30\n",
      "231/231 [==============================] - 0s 952us/step - loss: 0.4353 - accuracy: 0.7933 - val_loss: 0.4087 - val_accuracy: 0.7914\n",
      "Epoch 7/30\n",
      "231/231 [==============================] - 0s 957us/step - loss: 0.4237 - accuracy: 0.7992 - val_loss: 0.4048 - val_accuracy: 0.7945\n",
      "Epoch 8/30\n",
      "231/231 [==============================] - 0s 965us/step - loss: 0.4223 - accuracy: 0.7939 - val_loss: 0.4031 - val_accuracy: 0.7983\n",
      "Epoch 9/30\n",
      "231/231 [==============================] - 0s 965us/step - loss: 0.4234 - accuracy: 0.8008 - val_loss: 0.4029 - val_accuracy: 0.7937\n",
      "Epoch 10/30\n",
      "231/231 [==============================] - 0s 950us/step - loss: 0.4228 - accuracy: 0.8021 - val_loss: 0.4117 - val_accuracy: 0.7937\n",
      "Epoch 11/30\n",
      "231/231 [==============================] - 0s 946us/step - loss: 0.4156 - accuracy: 0.8013 - val_loss: 0.3978 - val_accuracy: 0.8006\n",
      "Epoch 12/30\n",
      "231/231 [==============================] - 0s 948us/step - loss: 0.4166 - accuracy: 0.8025 - val_loss: 0.3965 - val_accuracy: 0.8021\n",
      "Epoch 13/30\n",
      "231/231 [==============================] - 0s 948us/step - loss: 0.4160 - accuracy: 0.8008 - val_loss: 0.3956 - val_accuracy: 0.7998\n",
      "Epoch 14/30\n",
      "231/231 [==============================] - 0s 952us/step - loss: 0.4159 - accuracy: 0.8024 - val_loss: 0.3965 - val_accuracy: 0.7991\n",
      "Epoch 15/30\n",
      "231/231 [==============================] - 0s 948us/step - loss: 0.4109 - accuracy: 0.8034 - val_loss: 0.3984 - val_accuracy: 0.7998\n",
      "Epoch 16/30\n",
      "231/231 [==============================] - 0s 983us/step - loss: 0.4112 - accuracy: 0.8046 - val_loss: 0.4018 - val_accuracy: 0.7937\n",
      "Epoch 17/30\n",
      "231/231 [==============================] - 0s 956us/step - loss: 0.4112 - accuracy: 0.8036 - val_loss: 0.4002 - val_accuracy: 0.7906\n",
      "Epoch 18/30\n",
      "231/231 [==============================] - 0s 961us/step - loss: 0.4112 - accuracy: 0.8042 - val_loss: 0.4012 - val_accuracy: 0.7922\n",
      "Epoch 19/30\n",
      "231/231 [==============================] - 0s 957us/step - loss: 0.4101 - accuracy: 0.8028 - val_loss: 0.4015 - val_accuracy: 0.7952\n",
      "Epoch 20/30\n",
      "231/231 [==============================] - 0s 974us/step - loss: 0.4116 - accuracy: 0.8031 - val_loss: 0.4007 - val_accuracy: 0.7929\n",
      "Epoch 21/30\n",
      "231/231 [==============================] - 0s 948us/step - loss: 0.4065 - accuracy: 0.8044 - val_loss: 0.3983 - val_accuracy: 0.8037\n",
      "Epoch 22/30\n",
      "231/231 [==============================] - 0s 952us/step - loss: 0.4085 - accuracy: 0.8034 - val_loss: 0.3978 - val_accuracy: 0.8037\n",
      "Epoch 23/30\n",
      "231/231 [==============================] - 0s 952us/step - loss: 0.4073 - accuracy: 0.8086 - val_loss: 0.4035 - val_accuracy: 0.7937\n",
      "Epoch 24/30\n",
      "231/231 [==============================] - 0s 952us/step - loss: 0.4075 - accuracy: 0.8078 - val_loss: 0.3978 - val_accuracy: 0.8044\n",
      "Epoch 25/30\n",
      "231/231 [==============================] - 0s 957us/step - loss: 0.4034 - accuracy: 0.8070 - val_loss: 0.4023 - val_accuracy: 0.7937\n",
      "Epoch 26/30\n",
      "231/231 [==============================] - 0s 952us/step - loss: 0.4059 - accuracy: 0.8050 - val_loss: 0.3980 - val_accuracy: 0.8014\n",
      "Epoch 27/30\n",
      "231/231 [==============================] - 0s 943us/step - loss: 0.4021 - accuracy: 0.8117 - val_loss: 0.3993 - val_accuracy: 0.7983\n",
      "Epoch 28/30\n",
      "231/231 [==============================] - 0s 952us/step - loss: 0.4017 - accuracy: 0.8088 - val_loss: 0.4012 - val_accuracy: 0.7983\n",
      "Epoch 29/30\n",
      "231/231 [==============================] - 0s 965us/step - loss: 0.3998 - accuracy: 0.8081 - val_loss: 0.3963 - val_accuracy: 0.8014\n",
      "Epoch 30/30\n",
      "231/231 [==============================] - 0s 974us/step - loss: 0.4018 - accuracy: 0.8086 - val_loss: 0.3971 - val_accuracy: 0.8044\n"
     ]
    }
   ],
   "source": [
    "model.compile(optimizer='adam',loss=keras.losses.binary_crossentropy, metrics=['accuracy'])\n",
    "history = model.fit(X_transformed,y, validation_split=0.15, epochs=30)"
   ]
  },
  {
   "cell_type": "code",
   "execution_count": 34,
   "id": "40e5c72c-91ca-428d-9060-f56b89de86c5",
   "metadata": {},
   "outputs": [
    {
     "data": {
      "text/plain": [
       "0       0013_01\n",
       "1       0018_01\n",
       "2       0019_01\n",
       "3       0021_01\n",
       "4       0023_01\n",
       "         ...   \n",
       "4272    9266_02\n",
       "4273    9269_01\n",
       "4274    9271_01\n",
       "4275    9273_01\n",
       "4276    9277_01\n",
       "Name: PassengerId, Length: 4277, dtype: object"
      ]
     },
     "execution_count": 34,
     "metadata": {},
     "output_type": "execute_result"
    }
   ],
   "source": [
    "pd.read_csv('data/test.csv').PassengerId"
   ]
  },
  {
   "cell_type": "code",
   "execution_count": 35,
   "id": "f8b4a548-8c4b-4366-8276-9280989359e1",
   "metadata": {},
   "outputs": [],
   "source": [
    "X_test = pd.read_csv('data/test.csv')\n",
    "X_test = pandas_transform(X_test)\n",
    "X_test = pipe.transform(X_test)\n",
    "preds = model.predict(X_test)"
   ]
  },
  {
   "cell_type": "code",
   "execution_count": 42,
   "id": "559692c2-3e01-4898-8886-a8d929d09aad",
   "metadata": {},
   "outputs": [
    {
     "data": {
      "text/plain": [
       "(4277,)"
      ]
     },
     "execution_count": 42,
     "metadata": {},
     "output_type": "execute_result"
    }
   ],
   "source": [
    "preds.reshape(4277).shape"
   ]
  },
  {
   "cell_type": "code",
   "execution_count": 44,
   "id": "cf0c8a4b-b3b7-4fd7-8e53-74d8a5d87d84",
   "metadata": {},
   "outputs": [],
   "source": [
    "output = pd.DataFrame({'PassengerId': pd.read_csv('data/test.csv').PassengerId,\n",
    "                       'Transported': preds.reshape(4277)>0.5})\n",
    "output.to_csv('./submission3.csv', index=False)"
   ]
  },
  {
   "cell_type": "markdown",
   "id": "7c5b2e43-20c8-493d-b377-f9470ca06f6d",
   "metadata": {},
   "source": [
    "Results: best model so far, but not by that much: Scored 0.79869 in kaggle's competition, as opposed to 0.79378 obtained with traditional algorithms"
   ]
  }
 ],
 "metadata": {
  "kernelspec": {
   "display_name": "Python 3 (ipykernel)",
   "language": "python",
   "name": "python3"
  },
  "language_info": {
   "codemirror_mode": {
    "name": "ipython",
    "version": 3
   },
   "file_extension": ".py",
   "mimetype": "text/x-python",
   "name": "python",
   "nbconvert_exporter": "python",
   "pygments_lexer": "ipython3",
   "version": "3.10.0"
  }
 },
 "nbformat": 4,
 "nbformat_minor": 5
}

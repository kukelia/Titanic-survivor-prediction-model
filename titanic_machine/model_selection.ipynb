{
 "cells": [
  {
   "cell_type": "code",
   "execution_count": 1,
   "id": "204fa356-c7aa-4ced-8eb8-f7d6bcc653f1",
   "metadata": {},
   "outputs": [],
   "source": [
    "import pandas as pd\n",
    "titanic_data = pd.read_csv('data/train.csv')\n",
    "X = titanic_data.copy()\n",
    "y = X.pop(\"Survived\")\n",
    "X_test = pd.read_csv('data/test.csv')"
   ]
  },
  {
   "cell_type": "code",
   "execution_count": 2,
   "id": "eb8c4600-37c0-4492-8862-0139a2bee82a",
   "metadata": {},
   "outputs": [],
   "source": [
    "from sklearn.preprocessing import OneHotEncoder\n",
    "from sklearn.preprocessing import StandardScaler\n",
    "\n",
    "\n",
    "def pd_transform(data, y_data = 0):\n",
    "    data.drop([\"Name\", \"Ticket\",\"Cabin\", \"PassengerId\"],axis=1,inplace=True)\n",
    "    data['Age'].fillna(30, inplace=True)\n",
    "    rows_dropped = data[data[\"Embarked\"].isnull()].index\n",
    "\n",
    "    data.drop(rows_dropped, inplace=True)\n",
    "\n",
    "    data['Family'] = data.SibSp + data.Parch\n",
    "    data.drop(['SibSp','Parch'],axis=1,inplace=True)\n",
    "\n",
    "    data['Sex'].replace({'male':0,'female':1}, inplace=True)\n",
    "\n",
    "    if isinstance(y_data, pd.Series):\n",
    "        y_data.drop(rows_dropped,inplace=True)\n",
    "    \n",
    "    onehot = pd.DataFrame(OneHotEncoder(sparse=False).fit_transform(data[['Embarked']]))\n",
    "\n",
    "    onehot.reset_index(inplace=True)\n",
    "    data.reset_index(inplace=True)\n",
    "    data = pd.concat([data, onehot], axis=1)\n",
    "\n",
    "    data.drop(['Embarked', 'index'],axis=1, inplace=True)\n",
    "    data.columns = data.columns.map(str)\n",
    "    \n",
    "    data = pd.DataFrame(StandardScaler().fit_transform(data))\n",
    "    \n",
    "    return data, y_data"
   ]
  },
  {
   "cell_type": "code",
   "execution_count": 3,
   "id": "c6e99297-b7cc-481b-866c-7a84dfa7065f",
   "metadata": {},
   "outputs": [],
   "source": [
    "def results(search):\n",
    "    print(\"--\"*30)\n",
    "    print(f\"best score was {search.best_score_}\")\n",
    "    print()\n",
    "    print(f\"best params were {search.best_params_}\")\n",
    "    print(\"--\"*30)"
   ]
  },
  {
   "cell_type": "code",
   "execution_count": 4,
   "id": "7bdb8759-d722-485e-8c2f-c0a61898078e",
   "metadata": {},
   "outputs": [],
   "source": [
    "X , y = pd_transform(X, y)"
   ]
  },
  {
   "cell_type": "code",
   "execution_count": 5,
   "id": "79f363ad-3455-405f-aa92-69f39815e17f",
   "metadata": {},
   "outputs": [
    {
     "data": {
      "text/html": [
       "<div>\n",
       "<style scoped>\n",
       "    .dataframe tbody tr th:only-of-type {\n",
       "        vertical-align: middle;\n",
       "    }\n",
       "\n",
       "    .dataframe tbody tr th {\n",
       "        vertical-align: top;\n",
       "    }\n",
       "\n",
       "    .dataframe thead th {\n",
       "        text-align: right;\n",
       "    }\n",
       "</style>\n",
       "<table border=\"1\" class=\"dataframe\">\n",
       "  <thead>\n",
       "    <tr style=\"text-align: right;\">\n",
       "      <th></th>\n",
       "      <th>0</th>\n",
       "      <th>1</th>\n",
       "      <th>2</th>\n",
       "      <th>3</th>\n",
       "      <th>4</th>\n",
       "      <th>5</th>\n",
       "      <th>6</th>\n",
       "      <th>7</th>\n",
       "    </tr>\n",
       "  </thead>\n",
       "  <tbody>\n",
       "    <tr>\n",
       "      <th>0</th>\n",
       "      <td>0.825209</td>\n",
       "      <td>-0.735342</td>\n",
       "      <td>-0.595082</td>\n",
       "      <td>-0.500240</td>\n",
       "      <td>0.057853</td>\n",
       "      <td>-0.482711</td>\n",
       "      <td>-0.307941</td>\n",
       "      <td>0.616794</td>\n",
       "    </tr>\n",
       "    <tr>\n",
       "      <th>1</th>\n",
       "      <td>-1.572211</td>\n",
       "      <td>1.359911</td>\n",
       "      <td>0.639311</td>\n",
       "      <td>0.788947</td>\n",
       "      <td>0.057853</td>\n",
       "      <td>2.071634</td>\n",
       "      <td>-0.307941</td>\n",
       "      <td>-1.621287</td>\n",
       "    </tr>\n",
       "    <tr>\n",
       "      <th>2</th>\n",
       "      <td>0.825209</td>\n",
       "      <td>1.359911</td>\n",
       "      <td>-0.286483</td>\n",
       "      <td>-0.486650</td>\n",
       "      <td>-0.561804</td>\n",
       "      <td>-0.482711</td>\n",
       "      <td>-0.307941</td>\n",
       "      <td>0.616794</td>\n",
       "    </tr>\n",
       "    <tr>\n",
       "      <th>3</th>\n",
       "      <td>-1.572211</td>\n",
       "      <td>1.359911</td>\n",
       "      <td>0.407863</td>\n",
       "      <td>0.422861</td>\n",
       "      <td>0.057853</td>\n",
       "      <td>-0.482711</td>\n",
       "      <td>-0.307941</td>\n",
       "      <td>0.616794</td>\n",
       "    </tr>\n",
       "  </tbody>\n",
       "</table>\n",
       "</div>"
      ],
      "text/plain": [
       "          0         1         2         3         4         5         6  \\\n",
       "0  0.825209 -0.735342 -0.595082 -0.500240  0.057853 -0.482711 -0.307941   \n",
       "1 -1.572211  1.359911  0.639311  0.788947  0.057853  2.071634 -0.307941   \n",
       "2  0.825209  1.359911 -0.286483 -0.486650 -0.561804 -0.482711 -0.307941   \n",
       "3 -1.572211  1.359911  0.407863  0.422861  0.057853 -0.482711 -0.307941   \n",
       "\n",
       "          7  \n",
       "0  0.616794  \n",
       "1 -1.621287  \n",
       "2  0.616794  \n",
       "3  0.616794  "
      ]
     },
     "execution_count": 5,
     "metadata": {},
     "output_type": "execute_result"
    }
   ],
   "source": [
    "X.head(4)"
   ]
  },
  {
   "cell_type": "code",
   "execution_count": 6,
   "id": "f160249c-2f80-42c8-ac8b-37ee0a13db4e",
   "metadata": {},
   "outputs": [],
   "source": [
    "from sklearn.model_selection import train_test_split\n",
    "X_train, X_val, y_train, y_val = train_test_split(X, y, test_size=0.1, random_state=16)"
   ]
  },
  {
   "cell_type": "code",
   "execution_count": 7,
   "id": "458e6839-b96d-44e7-9dd2-d7c5c8334460",
   "metadata": {},
   "outputs": [
    {
     "data": {
      "text/plain": [
       "0.80625"
      ]
     },
     "execution_count": 7,
     "metadata": {},
     "output_type": "execute_result"
    }
   ],
   "source": [
    "from sklearn.ensemble import RandomForestClassifier\n",
    "from sklearn.model_selection import cross_val_score\n",
    "\n",
    "model = RandomForestClassifier(random_state=16)\n",
    "scores = cross_val_score(model, X_train, y_train)\n",
    "scores.mean()"
   ]
  },
  {
   "cell_type": "code",
   "execution_count": 8,
   "id": "c2ccd334-d0f2-4e61-96ea-8e477169909f",
   "metadata": {},
   "outputs": [
    {
     "data": {
      "text/plain": [
       "GridSearchCV(estimator=RandomForestClassifier(random_state=16),\n",
       "             param_grid={'max_depth': [2, 4, 5, 8],\n",
       "                         'n_estimators': [50, 100, 200]})"
      ]
     },
     "execution_count": 8,
     "metadata": {},
     "output_type": "execute_result"
    }
   ],
   "source": [
    "from sklearn.model_selection import GridSearchCV\n",
    "\n",
    "params = {'n_estimators':[50,100,200], 'max_depth':[2,4,5,8]}\n",
    "\n",
    "search = GridSearchCV(model,params)\n",
    "search.fit(X_train,y_train)"
   ]
  },
  {
   "cell_type": "code",
   "execution_count": 9,
   "id": "465ee0f4-ea86-4172-900e-4674ba0feace",
   "metadata": {},
   "outputs": [
    {
     "name": "stdout",
     "output_type": "stream",
     "text": [
      "------------------------------------------------------------\n",
      "best score was 0.82875\n",
      "\n",
      "best params were {'max_depth': 8, 'n_estimators': 200}\n",
      "------------------------------------------------------------\n"
     ]
    }
   ],
   "source": [
    "results(search)"
   ]
  },
  {
   "cell_type": "code",
   "execution_count": 10,
   "id": "d5020ca8-8161-43d1-a28e-ccfd5f038cab",
   "metadata": {},
   "outputs": [
    {
     "data": {
      "text/plain": [
       "GridSearchCV(estimator=RandomForestClassifier(random_state=16),\n",
       "             param_grid={'max_depth': [2, 4, 6, 8],\n",
       "                         'n_estimators': [15, 25, 50]})"
      ]
     },
     "execution_count": 10,
     "metadata": {},
     "output_type": "execute_result"
    }
   ],
   "source": [
    "params2 = {'n_estimators':[15,25, 50], 'max_depth':[2,4, 6,8]}\n",
    "\n",
    "search2 = GridSearchCV(model,params2)\n",
    "search2.fit(X_train,y_train)"
   ]
  },
  {
   "cell_type": "code",
   "execution_count": 11,
   "id": "e0c285e2-1792-44de-ba04-021dc2762903",
   "metadata": {},
   "outputs": [
    {
     "name": "stdout",
     "output_type": "stream",
     "text": [
      "------------------------------------------------------------\n",
      "best score was 0.825\n",
      "\n",
      "best params were {'max_depth': 8, 'n_estimators': 15}\n",
      "------------------------------------------------------------\n"
     ]
    }
   ],
   "source": [
    "results(search2)"
   ]
  },
  {
   "cell_type": "code",
   "execution_count": 12,
   "id": "4785366a-77b0-4931-818b-90a093c7a311",
   "metadata": {},
   "outputs": [
    {
     "data": {
      "text/plain": [
       "GridSearchCV(estimator=SVC(), n_jobs=-1,\n",
       "             param_grid={'degree': [2, 3, 4],\n",
       "                         'kernel': ['linear', 'poly', 'rbf']})"
      ]
     },
     "execution_count": 12,
     "metadata": {},
     "output_type": "execute_result"
    }
   ],
   "source": [
    "from sklearn import svm\n",
    "svm_model = svm.SVC()\n",
    "params4 = {'kernel':['linear', 'poly', 'rbf'], 'degree':[2,3,4]}\n",
    "search4 = GridSearchCV(svm_model, params4, n_jobs=-1)\n",
    "search4.fit(X_train,y_train)"
   ]
  },
  {
   "cell_type": "code",
   "execution_count": 13,
   "id": "b48f33b0-e39f-4912-aa8b-1f3be7e70b20",
   "metadata": {},
   "outputs": [
    {
     "name": "stdout",
     "output_type": "stream",
     "text": [
      "------------------------------------------------------------\n",
      "best score was 0.8237500000000001\n",
      "\n",
      "best params were {'degree': 2, 'kernel': 'rbf'}\n",
      "------------------------------------------------------------\n"
     ]
    }
   ],
   "source": [
    "results(search4)"
   ]
  },
  {
   "cell_type": "code",
   "execution_count": 24,
   "id": "007d097b-517e-49ac-b869-d00438ffdb19",
   "metadata": {},
   "outputs": [],
   "source": [
    "from xgboost import XGBClassifier\n",
    "\n",
    "xgb_model = XGBClassifier()\n",
    "params5 = {'max_depth':[3,5,10,15], 'n_estimators':[50,100,200]}\n",
    "search5 = GridSearchCV(xgb_model, params5, n_jobs=-1)\n",
    "search5.fit(X_train,y_train);"
   ]
  },
  {
   "cell_type": "code",
   "execution_count": 25,
   "id": "90361fea-c44a-4821-9b6c-d987717ff72d",
   "metadata": {},
   "outputs": [
    {
     "name": "stdout",
     "output_type": "stream",
     "text": [
      "------------------------------------------------------------\n",
      "best score was 0.8324999999999999\n",
      "\n",
      "best params were {'max_depth': 3, 'n_estimators': 50}\n",
      "------------------------------------------------------------\n"
     ]
    }
   ],
   "source": [
    "results(search5)"
   ]
  },
  {
   "cell_type": "code",
   "execution_count": null,
   "id": "d18c2711-d770-41f5-a210-21160ef2c9cc",
   "metadata": {},
   "outputs": [],
   "source": []
  },
  {
   "cell_type": "markdown",
   "id": "67a0b644-10ef-48c5-b9f7-a2d120f0fe4a",
   "metadata": {},
   "source": [
    "XGB resulted in the best model for this case"
   ]
  },
  {
   "cell_type": "markdown",
   "id": "738178cd-b3e5-42a8-b5cd-15cadfda742e",
   "metadata": {},
   "source": [
    "Going to create it with the best params we got"
   ]
  },
  {
   "cell_type": "code",
   "execution_count": 26,
   "id": "fd06e8bf-6c1c-4f0b-a6ed-7a80ee3c0718",
   "metadata": {},
   "outputs": [],
   "source": [
    "xgb_model = XGBClassifier(max_depth = 3, n_estimators=50)\n",
    "xgb_model.fit(X,y);"
   ]
  },
  {
   "cell_type": "code",
   "execution_count": 27,
   "id": "9c2cf117-c571-4d06-a253-d299e3263a8d",
   "metadata": {},
   "outputs": [],
   "source": [
    "preds2 = xgb_model.predict(X_test)\n",
    "test_2 = pd.read_csv('data/test.csv')\n",
    "output = pd.DataFrame({'PassengerId': test_2['PassengerId'],\n",
    "                       'Survived': preds2})\n",
    "output.to_csv('./submissionv2.csv', index=False)"
   ]
  },
  {
   "cell_type": "markdown",
   "id": "221c147d-d462-4662-b82d-b791632ba764",
   "metadata": {},
   "source": [
    "Results: top 22% in Kaggle's titanic competition"
   ]
  }
 ],
 "metadata": {
  "kernelspec": {
   "display_name": "Python 3 (ipykernel)",
   "language": "python",
   "name": "python3"
  },
  "language_info": {
   "codemirror_mode": {
    "name": "ipython",
    "version": 3
   },
   "file_extension": ".py",
   "mimetype": "text/x-python",
   "name": "python",
   "nbconvert_exporter": "python",
   "pygments_lexer": "ipython3",
   "version": "3.10.0"
  }
 },
 "nbformat": 4,
 "nbformat_minor": 5
}

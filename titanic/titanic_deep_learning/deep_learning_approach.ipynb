{
 "cells": [
  {
   "cell_type": "code",
   "execution_count": 1,
   "id": "82969e81-f57c-45b8-9291-88a90a4a4311",
   "metadata": {},
   "outputs": [],
   "source": [
    "import tensorflow as tf\n",
    "import tensorflow.keras as keras\n",
    "import pandas as pd\n",
    "import tensorflow.keras.layers as layers"
   ]
  },
  {
   "cell_type": "code",
   "execution_count": 2,
   "id": "df110024-a51c-488c-a2ea-8a785b009535",
   "metadata": {},
   "outputs": [],
   "source": [
    "data = pd.read_csv(r\"C:\\Users\\zubik\\CODIGOS\\jupyter\\machine learning\\titanic\\data\\train.csv\")"
   ]
  },
  {
   "cell_type": "code",
   "execution_count": 3,
   "id": "f55f499d-6f2d-4866-bed1-761e3f74c193",
   "metadata": {},
   "outputs": [],
   "source": [
    "X = data.copy()\n",
    "y = X.pop(\"Survived\")\n",
    "X_test = pd.read_csv(r\"C:\\Users\\zubik\\CODIGOS\\jupyter\\machine learning\\titanic\\data\\test.csv\")"
   ]
  },
  {
   "cell_type": "code",
   "execution_count": 4,
   "id": "66168264-b8aa-4de9-b823-b43196762df0",
   "metadata": {},
   "outputs": [],
   "source": [
    "from sklearn.preprocessing import OneHotEncoder\n",
    "from sklearn.preprocessing import StandardScaler\n",
    "\n",
    "def pd_transform(data, y_data = 0):\n",
    "    data.drop([\"Name\", \"Ticket\",\"Cabin\",\"PassengerId\"],axis=1,inplace=True)\n",
    "    data['Age'].fillna(30, inplace=True)\n",
    "    rows_dropped = data[data[\"Embarked\"].isnull()].index\n",
    "\n",
    "    data.drop(rows_dropped, inplace=True)\n",
    "\n",
    "    data['Family'] = data.SibSp + data.Parch\n",
    "    data.drop(['SibSp','Parch'],axis=1,inplace=True)\n",
    "\n",
    "    data['Sex'].replace({'male':0,'female':1}, inplace=True)\n",
    "\n",
    "    if isinstance(y_data, pd.Series):\n",
    "        y_data.drop(rows_dropped,inplace=True)\n",
    "    \n",
    "    onehot = pd.DataFrame(OneHotEncoder(sparse=False).fit_transform(data[['Embarked']]))\n",
    "\n",
    "    onehot.reset_index(inplace=True)\n",
    "    data.reset_index(inplace=True)\n",
    "    data = pd.concat([data, onehot], axis=1)\n",
    "\n",
    "    data.drop(['Embarked', 'index'],axis=1, inplace=True)\n",
    "    data.columns = data.columns.map(str)\n",
    "    data = pd.DataFrame( StandardScaler().fit_transform(data) )\n",
    "    \n",
    "    return data, y_data"
   ]
  },
  {
   "cell_type": "code",
   "execution_count": 5,
   "id": "582aaae5-7250-415a-8471-3a3294038891",
   "metadata": {},
   "outputs": [],
   "source": [
    "X, y = pd_transform(X, y)"
   ]
  },
  {
   "cell_type": "code",
   "execution_count": 6,
   "id": "8aea1e32-9a6b-4700-8f7f-8effc9c9139d",
   "metadata": {},
   "outputs": [
    {
     "data": {
      "text/plain": [
       "(889, 8)"
      ]
     },
     "execution_count": 6,
     "metadata": {},
     "output_type": "execute_result"
    }
   ],
   "source": [
    "X.shape"
   ]
  },
  {
   "cell_type": "code",
   "execution_count": 7,
   "id": "a5131213-9008-4841-81e2-8e45fe656d62",
   "metadata": {},
   "outputs": [
    {
     "data": {
      "text/html": [
       "<div>\n",
       "<style scoped>\n",
       "    .dataframe tbody tr th:only-of-type {\n",
       "        vertical-align: middle;\n",
       "    }\n",
       "\n",
       "    .dataframe tbody tr th {\n",
       "        vertical-align: top;\n",
       "    }\n",
       "\n",
       "    .dataframe thead th {\n",
       "        text-align: right;\n",
       "    }\n",
       "</style>\n",
       "<table border=\"1\" class=\"dataframe\">\n",
       "  <thead>\n",
       "    <tr style=\"text-align: right;\">\n",
       "      <th></th>\n",
       "      <th>0</th>\n",
       "      <th>1</th>\n",
       "      <th>2</th>\n",
       "      <th>3</th>\n",
       "      <th>4</th>\n",
       "      <th>5</th>\n",
       "      <th>6</th>\n",
       "      <th>7</th>\n",
       "    </tr>\n",
       "  </thead>\n",
       "  <tbody>\n",
       "    <tr>\n",
       "      <th>0</th>\n",
       "      <td>0.825209</td>\n",
       "      <td>-0.735342</td>\n",
       "      <td>-0.595082</td>\n",
       "      <td>-0.500240</td>\n",
       "      <td>0.057853</td>\n",
       "      <td>-0.482711</td>\n",
       "      <td>-0.307941</td>\n",
       "      <td>0.616794</td>\n",
       "    </tr>\n",
       "    <tr>\n",
       "      <th>1</th>\n",
       "      <td>-1.572211</td>\n",
       "      <td>1.359911</td>\n",
       "      <td>0.639311</td>\n",
       "      <td>0.788947</td>\n",
       "      <td>0.057853</td>\n",
       "      <td>2.071634</td>\n",
       "      <td>-0.307941</td>\n",
       "      <td>-1.621287</td>\n",
       "    </tr>\n",
       "    <tr>\n",
       "      <th>2</th>\n",
       "      <td>0.825209</td>\n",
       "      <td>1.359911</td>\n",
       "      <td>-0.286483</td>\n",
       "      <td>-0.486650</td>\n",
       "      <td>-0.561804</td>\n",
       "      <td>-0.482711</td>\n",
       "      <td>-0.307941</td>\n",
       "      <td>0.616794</td>\n",
       "    </tr>\n",
       "    <tr>\n",
       "      <th>3</th>\n",
       "      <td>-1.572211</td>\n",
       "      <td>1.359911</td>\n",
       "      <td>0.407863</td>\n",
       "      <td>0.422861</td>\n",
       "      <td>0.057853</td>\n",
       "      <td>-0.482711</td>\n",
       "      <td>-0.307941</td>\n",
       "      <td>0.616794</td>\n",
       "    </tr>\n",
       "  </tbody>\n",
       "</table>\n",
       "</div>"
      ],
      "text/plain": [
       "          0         1         2         3         4         5         6  \\\n",
       "0  0.825209 -0.735342 -0.595082 -0.500240  0.057853 -0.482711 -0.307941   \n",
       "1 -1.572211  1.359911  0.639311  0.788947  0.057853  2.071634 -0.307941   \n",
       "2  0.825209  1.359911 -0.286483 -0.486650 -0.561804 -0.482711 -0.307941   \n",
       "3 -1.572211  1.359911  0.407863  0.422861  0.057853 -0.482711 -0.307941   \n",
       "\n",
       "          7  \n",
       "0  0.616794  \n",
       "1 -1.621287  \n",
       "2  0.616794  \n",
       "3  0.616794  "
      ]
     },
     "execution_count": 7,
     "metadata": {},
     "output_type": "execute_result"
    }
   ],
   "source": [
    "X.head(4)"
   ]
  },
  {
   "cell_type": "markdown",
   "id": "06f90372-61f3-46c1-9cab-f3fd92468275",
   "metadata": {},
   "source": [
    "First version: without dropout"
   ]
  },
  {
   "cell_type": "code",
   "execution_count": 8,
   "id": "1251fe7e-fb04-4c75-b77f-6fbfe73693ab",
   "metadata": {},
   "outputs": [],
   "source": [
    "model = keras.Sequential([\n",
    "    layers.Dense(10, input_shape=[8], activation='relu'),\n",
    "    layers.Dense(10,activation=\"relu\"),\n",
    "    layers.Dense(5, activation=\"relu\"),\n",
    "    layers.Dense(1, activation=\"sigmoid\")\n",
    "])"
   ]
  },
  {
   "cell_type": "code",
   "execution_count": 9,
   "id": "ad0ffd1d-4f95-4f3d-a896-580ea4842617",
   "metadata": {},
   "outputs": [
    {
     "name": "stdout",
     "output_type": "stream",
     "text": [
      "Model: \"sequential\"\n",
      "_________________________________________________________________\n",
      " Layer (type)                Output Shape              Param #   \n",
      "=================================================================\n",
      " dense (Dense)               (None, 10)                90        \n",
      "                                                                 \n",
      " dense_1 (Dense)             (None, 10)                110       \n",
      "                                                                 \n",
      " dense_2 (Dense)             (None, 5)                 55        \n",
      "                                                                 \n",
      " dense_3 (Dense)             (None, 1)                 6         \n",
      "                                                                 \n",
      "=================================================================\n",
      "Total params: 261\n",
      "Trainable params: 261\n",
      "Non-trainable params: 0\n",
      "_________________________________________________________________\n"
     ]
    }
   ],
   "source": [
    "model.summary()"
   ]
  },
  {
   "cell_type": "code",
   "execution_count": 10,
   "id": "45453fd2-52ec-4184-9d77-307459838dab",
   "metadata": {},
   "outputs": [],
   "source": [
    "model.compile(loss=keras.losses.binary_crossentropy, optimizer=\"adam\", metrics=[\"accuracy\"])"
   ]
  },
  {
   "cell_type": "code",
   "execution_count": 11,
   "id": "fe940927-9775-4b19-bb1f-06093ed04b08",
   "metadata": {},
   "outputs": [],
   "source": [
    "from sklearn.model_selection import train_test_split\n",
    "X_train, X_val, y_train, y_val = train_test_split(X, y, test_size=0.1, random_state=16)"
   ]
  },
  {
   "cell_type": "code",
   "execution_count": 12,
   "id": "3c525a03-18dd-4a6a-a325-b4d6b8562875",
   "metadata": {},
   "outputs": [
    {
     "data": {
      "text/plain": [
       "(800, 8)"
      ]
     },
     "execution_count": 12,
     "metadata": {},
     "output_type": "execute_result"
    }
   ],
   "source": [
    "X_train.shape"
   ]
  },
  {
   "cell_type": "code",
   "execution_count": 13,
   "id": "02efdb8b-39ed-46e8-b837-f21b9922585e",
   "metadata": {},
   "outputs": [
    {
     "name": "stdout",
     "output_type": "stream",
     "text": [
      "Epoch 1/30\n",
      "8/8 [==============================] - 1s 28ms/step - loss: 0.7022 - accuracy: 0.6160 - val_loss: 0.6797 - val_accuracy: 0.6685\n",
      "Epoch 2/30\n",
      "8/8 [==============================] - 0s 3ms/step - loss: 0.6855 - accuracy: 0.6456 - val_loss: 0.6643 - val_accuracy: 0.6910\n",
      "Epoch 3/30\n",
      "8/8 [==============================] - 0s 3ms/step - loss: 0.6714 - accuracy: 0.6596 - val_loss: 0.6492 - val_accuracy: 0.7247\n",
      "Epoch 4/30\n",
      "8/8 [==============================] - 0s 3ms/step - loss: 0.6575 - accuracy: 0.6709 - val_loss: 0.6343 - val_accuracy: 0.7416\n",
      "Epoch 5/30\n",
      "8/8 [==============================] - 0s 3ms/step - loss: 0.6451 - accuracy: 0.6807 - val_loss: 0.6206 - val_accuracy: 0.7416\n",
      "Epoch 6/30\n",
      "8/8 [==============================] - 0s 3ms/step - loss: 0.6330 - accuracy: 0.6948 - val_loss: 0.6076 - val_accuracy: 0.7472\n",
      "Epoch 7/30\n",
      "8/8 [==============================] - 0s 3ms/step - loss: 0.6222 - accuracy: 0.7187 - val_loss: 0.5961 - val_accuracy: 0.7584\n",
      "Epoch 8/30\n",
      "8/8 [==============================] - 0s 3ms/step - loss: 0.6123 - accuracy: 0.7496 - val_loss: 0.5837 - val_accuracy: 0.7753\n",
      "Epoch 9/30\n",
      "8/8 [==============================] - 0s 3ms/step - loss: 0.6010 - accuracy: 0.7567 - val_loss: 0.5708 - val_accuracy: 0.7809\n",
      "Epoch 10/30\n",
      "8/8 [==============================] - 0s 3ms/step - loss: 0.5900 - accuracy: 0.7651 - val_loss: 0.5576 - val_accuracy: 0.7978\n",
      "Epoch 11/30\n",
      "8/8 [==============================] - 0s 3ms/step - loss: 0.5791 - accuracy: 0.7679 - val_loss: 0.5450 - val_accuracy: 0.8034\n",
      "Epoch 12/30\n",
      "8/8 [==============================] - 0s 3ms/step - loss: 0.5691 - accuracy: 0.7750 - val_loss: 0.5332 - val_accuracy: 0.8090\n",
      "Epoch 13/30\n",
      "8/8 [==============================] - 0s 3ms/step - loss: 0.5593 - accuracy: 0.7792 - val_loss: 0.5221 - val_accuracy: 0.8146\n",
      "Epoch 14/30\n",
      "8/8 [==============================] - 0s 3ms/step - loss: 0.5505 - accuracy: 0.7890 - val_loss: 0.5119 - val_accuracy: 0.8202\n",
      "Epoch 15/30\n",
      "8/8 [==============================] - 0s 3ms/step - loss: 0.5422 - accuracy: 0.7876 - val_loss: 0.5013 - val_accuracy: 0.8258\n",
      "Epoch 16/30\n",
      "8/8 [==============================] - 0s 3ms/step - loss: 0.5342 - accuracy: 0.7848 - val_loss: 0.4911 - val_accuracy: 0.8258\n",
      "Epoch 17/30\n",
      "8/8 [==============================] - 0s 3ms/step - loss: 0.5264 - accuracy: 0.7904 - val_loss: 0.4819 - val_accuracy: 0.8315\n",
      "Epoch 18/30\n",
      "8/8 [==============================] - 0s 3ms/step - loss: 0.5196 - accuracy: 0.7904 - val_loss: 0.4741 - val_accuracy: 0.8371\n",
      "Epoch 19/30\n",
      "8/8 [==============================] - 0s 3ms/step - loss: 0.5133 - accuracy: 0.7918 - val_loss: 0.4666 - val_accuracy: 0.8371\n",
      "Epoch 20/30\n",
      "8/8 [==============================] - 0s 3ms/step - loss: 0.5074 - accuracy: 0.7947 - val_loss: 0.4590 - val_accuracy: 0.8371\n",
      "Epoch 21/30\n",
      "8/8 [==============================] - 0s 3ms/step - loss: 0.5016 - accuracy: 0.7904 - val_loss: 0.4519 - val_accuracy: 0.8427\n",
      "Epoch 22/30\n",
      "8/8 [==============================] - 0s 3ms/step - loss: 0.4965 - accuracy: 0.7932 - val_loss: 0.4459 - val_accuracy: 0.8315\n",
      "Epoch 23/30\n",
      "8/8 [==============================] - 0s 3ms/step - loss: 0.4923 - accuracy: 0.7932 - val_loss: 0.4398 - val_accuracy: 0.8315\n",
      "Epoch 24/30\n",
      "8/8 [==============================] - 0s 3ms/step - loss: 0.4868 - accuracy: 0.7961 - val_loss: 0.4342 - val_accuracy: 0.8371\n",
      "Epoch 25/30\n",
      "8/8 [==============================] - 0s 3ms/step - loss: 0.4825 - accuracy: 0.7975 - val_loss: 0.4295 - val_accuracy: 0.8371\n",
      "Epoch 26/30\n",
      "8/8 [==============================] - 0s 3ms/step - loss: 0.4792 - accuracy: 0.7975 - val_loss: 0.4246 - val_accuracy: 0.8371\n",
      "Epoch 27/30\n",
      "8/8 [==============================] - 0s 3ms/step - loss: 0.4752 - accuracy: 0.7989 - val_loss: 0.4201 - val_accuracy: 0.8315\n",
      "Epoch 28/30\n",
      "8/8 [==============================] - 0s 3ms/step - loss: 0.4718 - accuracy: 0.8045 - val_loss: 0.4159 - val_accuracy: 0.8371\n",
      "Epoch 29/30\n",
      "8/8 [==============================] - 0s 3ms/step - loss: 0.4684 - accuracy: 0.8073 - val_loss: 0.4124 - val_accuracy: 0.8371\n",
      "Epoch 30/30\n",
      "8/8 [==============================] - 0s 3ms/step - loss: 0.4655 - accuracy: 0.8087 - val_loss: 0.4088 - val_accuracy: 0.8371\n"
     ]
    },
    {
     "data": {
      "text/plain": [
       "<keras.callbacks.History at 0x24c887bd330>"
      ]
     },
     "execution_count": 13,
     "metadata": {},
     "output_type": "execute_result"
    }
   ],
   "source": [
    "model.fit(X,y,validation_split=0.2, epochs=30, batch_size= 90)"
   ]
  },
  {
   "cell_type": "markdown",
   "id": "9ea68003-d805-4e0b-afed-9bb906f52dab",
   "metadata": {},
   "source": [
    "Fitting with whole data"
   ]
  },
  {
   "cell_type": "code",
   "execution_count": 14,
   "id": "e738db42-0b03-447b-8834-719d1c5651ca",
   "metadata": {},
   "outputs": [
    {
     "name": "stdout",
     "output_type": "stream",
     "text": [
      "Epoch 1/30\n",
      "28/28 [==============================] - 0s 815us/step - loss: 0.4506 - accuracy: 0.8166\n",
      "Epoch 2/30\n",
      "28/28 [==============================] - 0s 741us/step - loss: 0.4416 - accuracy: 0.8121\n",
      "Epoch 3/30\n",
      "28/28 [==============================] - 0s 741us/step - loss: 0.4366 - accuracy: 0.8189\n",
      "Epoch 4/30\n",
      "28/28 [==============================] - 0s 778us/step - loss: 0.4311 - accuracy: 0.8211\n",
      "Epoch 5/30\n",
      "28/28 [==============================] - 0s 778us/step - loss: 0.4304 - accuracy: 0.8166\n",
      "Epoch 6/30\n",
      "28/28 [==============================] - 0s 741us/step - loss: 0.4253 - accuracy: 0.8200\n",
      "Epoch 7/30\n",
      "28/28 [==============================] - 0s 741us/step - loss: 0.4233 - accuracy: 0.8223\n",
      "Epoch 8/30\n",
      "28/28 [==============================] - 0s 815us/step - loss: 0.4209 - accuracy: 0.8189\n",
      "Epoch 9/30\n",
      "28/28 [==============================] - 0s 741us/step - loss: 0.4178 - accuracy: 0.8256\n",
      "Epoch 10/30\n",
      "28/28 [==============================] - 0s 778us/step - loss: 0.4149 - accuracy: 0.8290\n",
      "Epoch 11/30\n",
      "28/28 [==============================] - 0s 741us/step - loss: 0.4135 - accuracy: 0.8301\n",
      "Epoch 12/30\n",
      "28/28 [==============================] - 0s 741us/step - loss: 0.4118 - accuracy: 0.8290\n",
      "Epoch 13/30\n",
      "28/28 [==============================] - 0s 778us/step - loss: 0.4100 - accuracy: 0.8256\n",
      "Epoch 14/30\n",
      "28/28 [==============================] - 0s 778us/step - loss: 0.4083 - accuracy: 0.8313\n",
      "Epoch 15/30\n",
      "28/28 [==============================] - 0s 778us/step - loss: 0.4092 - accuracy: 0.8290\n",
      "Epoch 16/30\n",
      "28/28 [==============================] - 0s 741us/step - loss: 0.4065 - accuracy: 0.8335\n",
      "Epoch 17/30\n",
      "28/28 [==============================] - 0s 778us/step - loss: 0.4047 - accuracy: 0.8324\n",
      "Epoch 18/30\n",
      "28/28 [==============================] - 0s 741us/step - loss: 0.4037 - accuracy: 0.8245\n",
      "Epoch 19/30\n",
      "28/28 [==============================] - 0s 741us/step - loss: 0.4025 - accuracy: 0.8301\n",
      "Epoch 20/30\n",
      "28/28 [==============================] - 0s 741us/step - loss: 0.4017 - accuracy: 0.8324\n",
      "Epoch 21/30\n",
      "28/28 [==============================] - 0s 741us/step - loss: 0.4032 - accuracy: 0.8290\n",
      "Epoch 22/30\n",
      "28/28 [==============================] - 0s 778us/step - loss: 0.4006 - accuracy: 0.8346\n",
      "Epoch 23/30\n",
      "28/28 [==============================] - 0s 815us/step - loss: 0.3997 - accuracy: 0.8301\n",
      "Epoch 24/30\n",
      "28/28 [==============================] - 0s 741us/step - loss: 0.3978 - accuracy: 0.8313\n",
      "Epoch 25/30\n",
      "28/28 [==============================] - 0s 741us/step - loss: 0.3978 - accuracy: 0.8358\n",
      "Epoch 26/30\n",
      "28/28 [==============================] - 0s 741us/step - loss: 0.3962 - accuracy: 0.8358\n",
      "Epoch 27/30\n",
      "28/28 [==============================] - 0s 741us/step - loss: 0.3957 - accuracy: 0.8335\n",
      "Epoch 28/30\n",
      "28/28 [==============================] - 0s 741us/step - loss: 0.3955 - accuracy: 0.8414\n",
      "Epoch 29/30\n",
      "28/28 [==============================] - 0s 741us/step - loss: 0.3940 - accuracy: 0.8346\n",
      "Epoch 30/30\n",
      "28/28 [==============================] - 0s 741us/step - loss: 0.3935 - accuracy: 0.8335\n"
     ]
    },
    {
     "data": {
      "text/plain": [
       "<keras.callbacks.History at 0x24c8aa7d3c0>"
      ]
     },
     "execution_count": 14,
     "metadata": {},
     "output_type": "execute_result"
    }
   ],
   "source": [
    "model.fit(X, y, epochs=30)"
   ]
  },
  {
   "cell_type": "code",
   "execution_count": 15,
   "id": "9c6f970b-2e57-4644-8ecb-2234a685526e",
   "metadata": {},
   "outputs": [],
   "source": [
    "X_test,_ = pd_transform(X_test)"
   ]
  },
  {
   "cell_type": "code",
   "execution_count": 16,
   "id": "d4fa590c-4442-46a1-bf9b-0d6a4b39b5de",
   "metadata": {},
   "outputs": [],
   "source": [
    "X_test.fillna(7000,inplace=True)"
   ]
  },
  {
   "cell_type": "code",
   "execution_count": 17,
   "id": "87115e1e-83bd-49e7-abf7-2732abd513a1",
   "metadata": {},
   "outputs": [],
   "source": [
    "preds = model.predict(X_test)"
   ]
  },
  {
   "cell_type": "code",
   "execution_count": 18,
   "id": "05aa63a7-d6a6-4616-98f0-88dd9d211a1d",
   "metadata": {},
   "outputs": [],
   "source": [
    "s = preds.reshape(1,-1)"
   ]
  },
  {
   "cell_type": "code",
   "execution_count": 19,
   "id": "a55f56d8-04c4-4676-9d6c-8209d400e052",
   "metadata": {},
   "outputs": [],
   "source": [
    "index  =pd.read_csv(r\"C:\\Users\\zubik\\CODIGOS\\jupyter\\machine learning\\titanic\\data\\test.csv\").PassengerId\n",
    "output = pd.DataFrame({'PassengerId': index,\n",
    "                       'Survived': (s[0] > 0.5).astype(int) })\n",
    "output.to_csv('./submissionv1.csv', index=False)"
   ]
  },
  {
   "cell_type": "markdown",
   "id": "262732c8-45b8-4fe0-a44a-2562d2bdd113",
   "metadata": {},
   "source": [
    "Second version: with dropout"
   ]
  },
  {
   "cell_type": "code",
   "execution_count": 20,
   "id": "c7f83bc1-7263-47a9-9ca3-0c8f747fa3f9",
   "metadata": {},
   "outputs": [],
   "source": [
    "model2 = keras.Sequential([\n",
    "        layers.Dense(10, input_shape=[8], activation='relu'),\n",
    "        layers.Dropout(0.2),\n",
    "        layers.Dense(10,activation=\"relu\"),\n",
    "        layers.Dropout(0.1),\n",
    "        layers.Dense(5, activation='relu'),\n",
    "        layers.Dropout(0.1),\n",
    "        layers.Dense(1, activation='sigmoid')\n",
    "])"
   ]
  },
  {
   "cell_type": "code",
   "execution_count": 21,
   "id": "6c4f4482-dd23-4e43-840c-18713dd188e6",
   "metadata": {},
   "outputs": [],
   "source": [
    "e_s = keras.callbacks.EarlyStopping(min_delta=0.001, patience=5, restore_best_weights=True)"
   ]
  },
  {
   "cell_type": "code",
   "execution_count": 22,
   "id": "283fbbf5-01fe-4eaf-995b-f642edac3ec7",
   "metadata": {},
   "outputs": [
    {
     "name": "stdout",
     "output_type": "stream",
     "text": [
      "Epoch 1/100\n",
      "25/25 [==============================] - 0s 5ms/step - loss: 0.6808 - binary_accuracy: 0.6675 - val_loss: 0.6694 - val_binary_accuracy: 0.7079\n",
      "Epoch 2/100\n",
      "25/25 [==============================] - 0s 2ms/step - loss: 0.6688 - binary_accuracy: 0.6787 - val_loss: 0.6577 - val_binary_accuracy: 0.7303\n",
      "Epoch 3/100\n",
      "25/25 [==============================] - 0s 1ms/step - loss: 0.6605 - binary_accuracy: 0.6687 - val_loss: 0.6417 - val_binary_accuracy: 0.7416\n",
      "Epoch 4/100\n",
      "25/25 [==============================] - 0s 1ms/step - loss: 0.6356 - binary_accuracy: 0.6913 - val_loss: 0.6056 - val_binary_accuracy: 0.7528\n",
      "Epoch 5/100\n",
      "25/25 [==============================] - 0s 1ms/step - loss: 0.5991 - binary_accuracy: 0.7163 - val_loss: 0.5544 - val_binary_accuracy: 0.7865\n",
      "Epoch 6/100\n",
      "25/25 [==============================] - 0s 1ms/step - loss: 0.5854 - binary_accuracy: 0.7113 - val_loss: 0.5227 - val_binary_accuracy: 0.7865\n",
      "Epoch 7/100\n",
      "25/25 [==============================] - 0s 1ms/step - loss: 0.5738 - binary_accuracy: 0.7038 - val_loss: 0.5045 - val_binary_accuracy: 0.7978\n",
      "Epoch 8/100\n",
      "25/25 [==============================] - 0s 1ms/step - loss: 0.5585 - binary_accuracy: 0.7362 - val_loss: 0.4910 - val_binary_accuracy: 0.7978\n",
      "Epoch 9/100\n",
      "25/25 [==============================] - 0s 2ms/step - loss: 0.5355 - binary_accuracy: 0.7287 - val_loss: 0.4768 - val_binary_accuracy: 0.8090\n",
      "Epoch 10/100\n",
      "25/25 [==============================] - 0s 1ms/step - loss: 0.5385 - binary_accuracy: 0.7362 - val_loss: 0.4661 - val_binary_accuracy: 0.8090\n",
      "Epoch 11/100\n",
      "25/25 [==============================] - 0s 1ms/step - loss: 0.5249 - binary_accuracy: 0.7613 - val_loss: 0.4576 - val_binary_accuracy: 0.8090\n",
      "Epoch 12/100\n",
      "25/25 [==============================] - 0s 1ms/step - loss: 0.5139 - binary_accuracy: 0.7613 - val_loss: 0.4500 - val_binary_accuracy: 0.8315\n",
      "Epoch 13/100\n",
      "25/25 [==============================] - 0s 1ms/step - loss: 0.5239 - binary_accuracy: 0.7475 - val_loss: 0.4421 - val_binary_accuracy: 0.8315\n",
      "Epoch 14/100\n",
      "25/25 [==============================] - 0s 1ms/step - loss: 0.5135 - binary_accuracy: 0.7738 - val_loss: 0.4386 - val_binary_accuracy: 0.8315\n",
      "Epoch 15/100\n",
      "25/25 [==============================] - 0s 1ms/step - loss: 0.5031 - binary_accuracy: 0.7812 - val_loss: 0.4348 - val_binary_accuracy: 0.8315\n",
      "Epoch 16/100\n",
      "25/25 [==============================] - 0s 1ms/step - loss: 0.5281 - binary_accuracy: 0.7588 - val_loss: 0.4317 - val_binary_accuracy: 0.8315\n",
      "Epoch 17/100\n",
      "25/25 [==============================] - 0s 1ms/step - loss: 0.5087 - binary_accuracy: 0.7688 - val_loss: 0.4297 - val_binary_accuracy: 0.8315\n",
      "Epoch 18/100\n",
      "25/25 [==============================] - 0s 1ms/step - loss: 0.4949 - binary_accuracy: 0.7800 - val_loss: 0.4277 - val_binary_accuracy: 0.8315\n",
      "Epoch 19/100\n",
      "25/25 [==============================] - 0s 2ms/step - loss: 0.4945 - binary_accuracy: 0.7775 - val_loss: 0.4244 - val_binary_accuracy: 0.8315\n",
      "Epoch 20/100\n",
      "25/25 [==============================] - 0s 1ms/step - loss: 0.4948 - binary_accuracy: 0.7663 - val_loss: 0.4239 - val_binary_accuracy: 0.8315\n",
      "Epoch 21/100\n",
      "25/25 [==============================] - 0s 1ms/step - loss: 0.5100 - binary_accuracy: 0.7613 - val_loss: 0.4263 - val_binary_accuracy: 0.8315\n",
      "Epoch 22/100\n",
      "25/25 [==============================] - 0s 1ms/step - loss: 0.4960 - binary_accuracy: 0.8037 - val_loss: 0.4255 - val_binary_accuracy: 0.8315\n",
      "Epoch 23/100\n",
      "25/25 [==============================] - 0s 1ms/step - loss: 0.5075 - binary_accuracy: 0.7713 - val_loss: 0.4250 - val_binary_accuracy: 0.8315\n",
      "Epoch 24/100\n",
      "25/25 [==============================] - 0s 2ms/step - loss: 0.5049 - binary_accuracy: 0.7788 - val_loss: 0.4237 - val_binary_accuracy: 0.8315\n"
     ]
    },
    {
     "data": {
      "text/plain": [
       "<keras.callbacks.History at 0x24c8aad8a00>"
      ]
     },
     "execution_count": 22,
     "metadata": {},
     "output_type": "execute_result"
    }
   ],
   "source": [
    "model2.compile(optimizer='adam', loss=keras.losses.binary_crossentropy, metrics=[keras.metrics.binary_accuracy])\n",
    "model2.fit(X, y, validation_split=0.1, epochs=100, callbacks=[e_s])"
   ]
  },
  {
   "cell_type": "code",
   "execution_count": 23,
   "id": "2b1aa5cb-f136-4310-a8ec-e56d33baea1f",
   "metadata": {},
   "outputs": [],
   "source": [
    "preds2 = model2.predict(X_test).round()\n",
    "preds2 = preds2.reshape(1,-1)"
   ]
  },
  {
   "cell_type": "code",
   "execution_count": 24,
   "id": "c0719f27-0e8d-4acc-bef7-0654c884eadb",
   "metadata": {},
   "outputs": [],
   "source": [
    "index  =pd.read_csv(r\"C:\\Users\\zubik\\CODIGOS\\jupyter\\machine learning\\titanic\\data\\test.csv\").PassengerId\n",
    "output = pd.DataFrame({'PassengerId': index,\n",
    "                       'Survived': preds2[0].astype(int) })\n",
    "output.to_csv('./submissionv2.csv', index=False)"
   ]
  }
 ],
 "metadata": {
  "kernelspec": {
   "display_name": "Python 3 (ipykernel)",
   "language": "python",
   "name": "python3"
  },
  "language_info": {
   "codemirror_mode": {
    "name": "ipython",
    "version": 3
   },
   "file_extension": ".py",
   "mimetype": "text/x-python",
   "name": "python",
   "nbconvert_exporter": "python",
   "pygments_lexer": "ipython3",
   "version": "3.10.0"
  }
 },
 "nbformat": 4,
 "nbformat_minor": 5
}
